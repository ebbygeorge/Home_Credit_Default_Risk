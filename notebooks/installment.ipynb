{
 "cells": [
  {
   "cell_type": "code",
   "execution_count": 1,
   "metadata": {
    "collapsed": true
   },
   "outputs": [],
   "source": [
    "import pandas as pd\n",
    "import numpy as np\n",
    "import os\n",
    "pd.options.display.max_columns = 999\n",
    "pd.options.display.max_rows = 999"
   ]
  },
  {
   "cell_type": "code",
   "execution_count": 2,
   "metadata": {
    "collapsed": true
   },
   "outputs": [],
   "source": [
    "installments_payments = pd.read_csv('installments_payments.csv')"
   ]
  },
  {
   "cell_type": "code",
   "execution_count": 3,
   "metadata": {
    "collapsed": true
   },
   "outputs": [],
   "source": [
    "#Encoding categorical variables\n",
    "from sklearn import preprocessing\n",
    "le = preprocessing.LabelEncoder()\n",
    "def encoding_cat_vars(df,le):\n",
    "    le_count = 0\n",
    "    one_hot_count = 0\n",
    "    # Iterate through the columns\n",
    "    for col in df:\n",
    "        if df[col].dtype == 'object' or df[col].dtype =='bool' :\n",
    "            # If 2 or fewer unique categories\n",
    "            if len(list(df[col].unique())) <= 2:\n",
    "                # Train on the training data\n",
    "                le.fit(df[col])\n",
    "                # Transform both training and testing data\n",
    "                df[col] = le.transform(df[col])    \n",
    "                # Keep track of how many columns were label encoded\n",
    "                le_count += 1\n",
    "            else:\n",
    "                one_hot_count +=1\n",
    "    print (\"no of columns label encoded : \"+str(le_count))\n",
    "    #One Hot encoding\n",
    "    df = pd.get_dummies(df)\n",
    "    print (\"no of columns one hot encoded encoded : \"+str(one_hot_count))\n",
    "    return df"
   ]
  },
  {
   "cell_type": "code",
   "execution_count": 4,
   "metadata": {
    "collapsed": true
   },
   "outputs": [],
   "source": [
    "## Missing values###########\n",
    "def missing_values_table(df):\n",
    "        # Total missing values\n",
    "        mis_val = df.isnull().sum()\n",
    "        \n",
    "        # Percentage of missing values\n",
    "        mis_val_percent = 100 * df.isnull().sum() / len(df)\n",
    "        \n",
    "        # Make a table with the results\n",
    "        mis_val_table = pd.concat([mis_val, mis_val_percent], axis=1)\n",
    "        \n",
    "        # Rename the columns\n",
    "        mis_val_table_ren_columns = mis_val_table.rename(\n",
    "        columns = {0 : 'Missing Values', 1 : '% of Total Values'})\n",
    "        \n",
    "        # Sort the table by percentage of missing descending\n",
    "        mis_val_table_ren_columns = mis_val_table_ren_columns[\n",
    "            mis_val_table_ren_columns.iloc[:,1] != 0].sort_values(\n",
    "        '% of Total Values', ascending=False).round(1)\n",
    "        \n",
    "        # Print some summary information\n",
    "        print (\"Your selected dataframe has \" + str(df.shape[1]) + \" columns.\\n\"      \n",
    "            \"There are \" + str(mis_val_table_ren_columns.shape[0]) +\n",
    "              \" columns that have missing values.\")\n",
    "        \n",
    "        # Return the dataframe with missing information\n",
    "        return mis_val_table_ren_columns\n",
    "###############################"
   ]
  },
  {
   "cell_type": "code",
   "execution_count": 5,
   "metadata": {
    "collapsed": true
   },
   "outputs": [],
   "source": [
    "#Removing highly correlated field in TMP_APP_TRAIN & TEST\n",
    "def cor_find(df,threshold):\n",
    "    corr_matrix = df.corr().abs()\n",
    "    upper = corr_matrix.where(np.triu(np.ones(corr_matrix.shape), k=1).astype(np.bool))\n",
    "    to_drop = [column for column in upper.columns if any(upper[column] > threshold)]\n",
    "    return corr_matrix,upper,to_drop"
   ]
  },
  {
   "cell_type": "code",
   "execution_count": 6,
   "metadata": {
    "collapsed": false
   },
   "outputs": [
    {
     "name": "stdout",
     "output_type": "stream",
     "text": [
      "Your selected dataframe has 8 columns.\n",
      "There are 2 columns that have missing values.\n"
     ]
    },
    {
     "data": {
      "text/html": [
       "<div>\n",
       "<style scoped>\n",
       "    .dataframe tbody tr th:only-of-type {\n",
       "        vertical-align: middle;\n",
       "    }\n",
       "\n",
       "    .dataframe tbody tr th {\n",
       "        vertical-align: top;\n",
       "    }\n",
       "\n",
       "    .dataframe thead th {\n",
       "        text-align: right;\n",
       "    }\n",
       "</style>\n",
       "<table border=\"1\" class=\"dataframe\">\n",
       "  <thead>\n",
       "    <tr style=\"text-align: right;\">\n",
       "      <th></th>\n",
       "      <th>Missing Values</th>\n",
       "      <th>% of Total Values</th>\n",
       "      <th>column_name</th>\n",
       "    </tr>\n",
       "  </thead>\n",
       "  <tbody>\n",
       "    <tr>\n",
       "      <th>0</th>\n",
       "      <td>2905</td>\n",
       "      <td>0.0</td>\n",
       "      <td>DAYS_ENTRY_PAYMENT</td>\n",
       "    </tr>\n",
       "    <tr>\n",
       "      <th>1</th>\n",
       "      <td>2905</td>\n",
       "      <td>0.0</td>\n",
       "      <td>AMT_PAYMENT</td>\n",
       "    </tr>\n",
       "  </tbody>\n",
       "</table>\n",
       "</div>"
      ],
      "text/plain": [
       "   Missing Values  % of Total Values         column_name\n",
       "0            2905                0.0  DAYS_ENTRY_PAYMENT\n",
       "1            2905                0.0         AMT_PAYMENT"
      ]
     },
     "execution_count": 6,
     "metadata": {},
     "output_type": "execute_result"
    }
   ],
   "source": [
    "#Check for missing values\n",
    "missing_values = missing_values_table(installments_payments)\n",
    "missing_values['column_name'] = missing_values.index\n",
    "missing_values = missing_values.reset_index(drop = True)\n",
    "missing_values"
   ]
  },
  {
   "cell_type": "code",
   "execution_count": 7,
   "metadata": {
    "collapsed": false,
    "scrolled": false
   },
   "outputs": [
    {
     "data": {
      "text/html": [
       "<div>\n",
       "<style scoped>\n",
       "    .dataframe tbody tr th:only-of-type {\n",
       "        vertical-align: middle;\n",
       "    }\n",
       "\n",
       "    .dataframe tbody tr th {\n",
       "        vertical-align: top;\n",
       "    }\n",
       "\n",
       "    .dataframe thead th {\n",
       "        text-align: right;\n",
       "    }\n",
       "</style>\n",
       "<table border=\"1\" class=\"dataframe\">\n",
       "  <thead>\n",
       "    <tr style=\"text-align: right;\">\n",
       "      <th></th>\n",
       "      <th>SK_ID_PREV</th>\n",
       "      <th>SK_ID_CURR</th>\n",
       "      <th>NUM_INSTALMENT_VERSION</th>\n",
       "      <th>NUM_INSTALMENT_NUMBER</th>\n",
       "      <th>DAYS_INSTALMENT</th>\n",
       "      <th>DAYS_ENTRY_PAYMENT</th>\n",
       "      <th>AMT_INSTALMENT</th>\n",
       "      <th>AMT_PAYMENT</th>\n",
       "    </tr>\n",
       "  </thead>\n",
       "  <tbody>\n",
       "    <tr>\n",
       "      <th>3764207</th>\n",
       "      <td>1531600</td>\n",
       "      <td>103793</td>\n",
       "      <td>1.0</td>\n",
       "      <td>7</td>\n",
       "      <td>-668.0</td>\n",
       "      <td>NaN</td>\n",
       "      <td>49741.020</td>\n",
       "      <td>NaN</td>\n",
       "    </tr>\n",
       "    <tr>\n",
       "      <th>3764208</th>\n",
       "      <td>1947105</td>\n",
       "      <td>159974</td>\n",
       "      <td>1.0</td>\n",
       "      <td>24</td>\n",
       "      <td>-36.0</td>\n",
       "      <td>NaN</td>\n",
       "      <td>22849.515</td>\n",
       "      <td>NaN</td>\n",
       "    </tr>\n",
       "    <tr>\n",
       "      <th>3764209</th>\n",
       "      <td>1843773</td>\n",
       "      <td>167270</td>\n",
       "      <td>1.0</td>\n",
       "      <td>22</td>\n",
       "      <td>-20.0</td>\n",
       "      <td>NaN</td>\n",
       "      <td>48092.355</td>\n",
       "      <td>NaN</td>\n",
       "    </tr>\n",
       "    <tr>\n",
       "      <th>3764210</th>\n",
       "      <td>1691592</td>\n",
       "      <td>192536</td>\n",
       "      <td>1.0</td>\n",
       "      <td>5</td>\n",
       "      <td>-2561.0</td>\n",
       "      <td>NaN</td>\n",
       "      <td>7675.425</td>\n",
       "      <td>NaN</td>\n",
       "    </tr>\n",
       "    <tr>\n",
       "      <th>3764211</th>\n",
       "      <td>1531299</td>\n",
       "      <td>157088</td>\n",
       "      <td>0.0</td>\n",
       "      <td>11</td>\n",
       "      <td>-1847.0</td>\n",
       "      <td>NaN</td>\n",
       "      <td>67.500</td>\n",
       "      <td>NaN</td>\n",
       "    </tr>\n",
       "  </tbody>\n",
       "</table>\n",
       "</div>"
      ],
      "text/plain": [
       "         SK_ID_PREV  SK_ID_CURR  NUM_INSTALMENT_VERSION  \\\n",
       "3764207     1531600      103793                     1.0   \n",
       "3764208     1947105      159974                     1.0   \n",
       "3764209     1843773      167270                     1.0   \n",
       "3764210     1691592      192536                     1.0   \n",
       "3764211     1531299      157088                     0.0   \n",
       "\n",
       "         NUM_INSTALMENT_NUMBER  DAYS_INSTALMENT  DAYS_ENTRY_PAYMENT  \\\n",
       "3764207                      7           -668.0                 NaN   \n",
       "3764208                     24            -36.0                 NaN   \n",
       "3764209                     22            -20.0                 NaN   \n",
       "3764210                      5          -2561.0                 NaN   \n",
       "3764211                     11          -1847.0                 NaN   \n",
       "\n",
       "         AMT_INSTALMENT  AMT_PAYMENT  \n",
       "3764207       49741.020          NaN  \n",
       "3764208       22849.515          NaN  \n",
       "3764209       48092.355          NaN  \n",
       "3764210        7675.425          NaN  \n",
       "3764211          67.500          NaN  "
      ]
     },
     "execution_count": 7,
     "metadata": {},
     "output_type": "execute_result"
    }
   ],
   "source": [
    "installments_payments[installments_payments['DAYS_ENTRY_PAYMENT'].isnull()].head()"
   ]
  },
  {
   "cell_type": "code",
   "execution_count": 13,
   "metadata": {
    "collapsed": false
   },
   "outputs": [
    {
     "data": {
      "text/html": [
       "<div>\n",
       "<style scoped>\n",
       "    .dataframe tbody tr th:only-of-type {\n",
       "        vertical-align: middle;\n",
       "    }\n",
       "\n",
       "    .dataframe tbody tr th {\n",
       "        vertical-align: top;\n",
       "    }\n",
       "\n",
       "    .dataframe thead th {\n",
       "        text-align: right;\n",
       "    }\n",
       "</style>\n",
       "<table border=\"1\" class=\"dataframe\">\n",
       "  <thead>\n",
       "    <tr style=\"text-align: right;\">\n",
       "      <th></th>\n",
       "      <th>SK_ID_PREV</th>\n",
       "      <th>SK_ID_CURR</th>\n",
       "      <th>NUM_INSTALMENT_VERSION</th>\n",
       "      <th>NUM_INSTALMENT_NUMBER</th>\n",
       "      <th>DAYS_INSTALMENT</th>\n",
       "      <th>DAYS_ENTRY_PAYMENT</th>\n",
       "      <th>AMT_INSTALMENT</th>\n",
       "      <th>AMT_PAYMENT</th>\n",
       "    </tr>\n",
       "  </thead>\n",
       "  <tbody>\n",
       "    <tr>\n",
       "      <th>1230469</th>\n",
       "      <td>1531600</td>\n",
       "      <td>103793</td>\n",
       "      <td>1.0</td>\n",
       "      <td>1</td>\n",
       "      <td>-848.0</td>\n",
       "      <td>-866.0</td>\n",
       "      <td>49741.02</td>\n",
       "      <td>49741.02</td>\n",
       "    </tr>\n",
       "    <tr>\n",
       "      <th>3118659</th>\n",
       "      <td>1531600</td>\n",
       "      <td>103793</td>\n",
       "      <td>1.0</td>\n",
       "      <td>2</td>\n",
       "      <td>-818.0</td>\n",
       "      <td>-821.0</td>\n",
       "      <td>49741.02</td>\n",
       "      <td>49741.02</td>\n",
       "    </tr>\n",
       "    <tr>\n",
       "      <th>1367795</th>\n",
       "      <td>1531600</td>\n",
       "      <td>103793</td>\n",
       "      <td>1.0</td>\n",
       "      <td>3</td>\n",
       "      <td>-788.0</td>\n",
       "      <td>-785.0</td>\n",
       "      <td>49741.02</td>\n",
       "      <td>49741.02</td>\n",
       "    </tr>\n",
       "    <tr>\n",
       "      <th>802700</th>\n",
       "      <td>1531600</td>\n",
       "      <td>103793</td>\n",
       "      <td>1.0</td>\n",
       "      <td>4</td>\n",
       "      <td>-758.0</td>\n",
       "      <td>-752.0</td>\n",
       "      <td>49741.02</td>\n",
       "      <td>49738.50</td>\n",
       "    </tr>\n",
       "    <tr>\n",
       "      <th>3769072</th>\n",
       "      <td>1531600</td>\n",
       "      <td>103793</td>\n",
       "      <td>1.0</td>\n",
       "      <td>5</td>\n",
       "      <td>-728.0</td>\n",
       "      <td>NaN</td>\n",
       "      <td>49741.02</td>\n",
       "      <td>NaN</td>\n",
       "    </tr>\n",
       "    <tr>\n",
       "      <th>3799638</th>\n",
       "      <td>1531600</td>\n",
       "      <td>103793</td>\n",
       "      <td>1.0</td>\n",
       "      <td>6</td>\n",
       "      <td>-698.0</td>\n",
       "      <td>NaN</td>\n",
       "      <td>49741.02</td>\n",
       "      <td>NaN</td>\n",
       "    </tr>\n",
       "    <tr>\n",
       "      <th>3764207</th>\n",
       "      <td>1531600</td>\n",
       "      <td>103793</td>\n",
       "      <td>1.0</td>\n",
       "      <td>7</td>\n",
       "      <td>-668.0</td>\n",
       "      <td>NaN</td>\n",
       "      <td>49741.02</td>\n",
       "      <td>NaN</td>\n",
       "    </tr>\n",
       "    <tr>\n",
       "      <th>3794788</th>\n",
       "      <td>1531600</td>\n",
       "      <td>103793</td>\n",
       "      <td>1.0</td>\n",
       "      <td>8</td>\n",
       "      <td>-638.0</td>\n",
       "      <td>NaN</td>\n",
       "      <td>49741.02</td>\n",
       "      <td>NaN</td>\n",
       "    </tr>\n",
       "    <tr>\n",
       "      <th>3794772</th>\n",
       "      <td>1531600</td>\n",
       "      <td>103793</td>\n",
       "      <td>1.0</td>\n",
       "      <td>9</td>\n",
       "      <td>-608.0</td>\n",
       "      <td>NaN</td>\n",
       "      <td>49741.02</td>\n",
       "      <td>NaN</td>\n",
       "    </tr>\n",
       "    <tr>\n",
       "      <th>3774329</th>\n",
       "      <td>1531600</td>\n",
       "      <td>103793</td>\n",
       "      <td>1.0</td>\n",
       "      <td>10</td>\n",
       "      <td>-578.0</td>\n",
       "      <td>NaN</td>\n",
       "      <td>49741.02</td>\n",
       "      <td>NaN</td>\n",
       "    </tr>\n",
       "    <tr>\n",
       "      <th>3779531</th>\n",
       "      <td>1531600</td>\n",
       "      <td>103793</td>\n",
       "      <td>1.0</td>\n",
       "      <td>11</td>\n",
       "      <td>-548.0</td>\n",
       "      <td>NaN</td>\n",
       "      <td>49741.02</td>\n",
       "      <td>NaN</td>\n",
       "    </tr>\n",
       "    <tr>\n",
       "      <th>3799608</th>\n",
       "      <td>1531600</td>\n",
       "      <td>103793</td>\n",
       "      <td>1.0</td>\n",
       "      <td>12</td>\n",
       "      <td>-518.0</td>\n",
       "      <td>NaN</td>\n",
       "      <td>49741.02</td>\n",
       "      <td>NaN</td>\n",
       "    </tr>\n",
       "    <tr>\n",
       "      <th>3779563</th>\n",
       "      <td>1531600</td>\n",
       "      <td>103793</td>\n",
       "      <td>1.0</td>\n",
       "      <td>13</td>\n",
       "      <td>-488.0</td>\n",
       "      <td>NaN</td>\n",
       "      <td>49741.02</td>\n",
       "      <td>NaN</td>\n",
       "    </tr>\n",
       "    <tr>\n",
       "      <th>3799674</th>\n",
       "      <td>1531600</td>\n",
       "      <td>103793</td>\n",
       "      <td>1.0</td>\n",
       "      <td>14</td>\n",
       "      <td>-458.0</td>\n",
       "      <td>NaN</td>\n",
       "      <td>49741.02</td>\n",
       "      <td>NaN</td>\n",
       "    </tr>\n",
       "    <tr>\n",
       "      <th>3784841</th>\n",
       "      <td>1531600</td>\n",
       "      <td>103793</td>\n",
       "      <td>1.0</td>\n",
       "      <td>15</td>\n",
       "      <td>-428.0</td>\n",
       "      <td>NaN</td>\n",
       "      <td>49741.02</td>\n",
       "      <td>NaN</td>\n",
       "    </tr>\n",
       "    <tr>\n",
       "      <th>3789282</th>\n",
       "      <td>1531600</td>\n",
       "      <td>103793</td>\n",
       "      <td>1.0</td>\n",
       "      <td>16</td>\n",
       "      <td>-398.0</td>\n",
       "      <td>NaN</td>\n",
       "      <td>49741.02</td>\n",
       "      <td>NaN</td>\n",
       "    </tr>\n",
       "    <tr>\n",
       "      <th>3779584</th>\n",
       "      <td>1531600</td>\n",
       "      <td>103793</td>\n",
       "      <td>1.0</td>\n",
       "      <td>17</td>\n",
       "      <td>-368.0</td>\n",
       "      <td>NaN</td>\n",
       "      <td>49741.02</td>\n",
       "      <td>NaN</td>\n",
       "    </tr>\n",
       "    <tr>\n",
       "      <th>3779605</th>\n",
       "      <td>1531600</td>\n",
       "      <td>103793</td>\n",
       "      <td>1.0</td>\n",
       "      <td>18</td>\n",
       "      <td>-338.0</td>\n",
       "      <td>NaN</td>\n",
       "      <td>49741.02</td>\n",
       "      <td>NaN</td>\n",
       "    </tr>\n",
       "    <tr>\n",
       "      <th>3779550</th>\n",
       "      <td>1531600</td>\n",
       "      <td>103793</td>\n",
       "      <td>1.0</td>\n",
       "      <td>19</td>\n",
       "      <td>-308.0</td>\n",
       "      <td>NaN</td>\n",
       "      <td>49741.02</td>\n",
       "      <td>NaN</td>\n",
       "    </tr>\n",
       "    <tr>\n",
       "      <th>3764224</th>\n",
       "      <td>1531600</td>\n",
       "      <td>103793</td>\n",
       "      <td>1.0</td>\n",
       "      <td>20</td>\n",
       "      <td>-278.0</td>\n",
       "      <td>NaN</td>\n",
       "      <td>49741.02</td>\n",
       "      <td>NaN</td>\n",
       "    </tr>\n",
       "    <tr>\n",
       "      <th>3764227</th>\n",
       "      <td>1531600</td>\n",
       "      <td>103793</td>\n",
       "      <td>1.0</td>\n",
       "      <td>21</td>\n",
       "      <td>-248.0</td>\n",
       "      <td>NaN</td>\n",
       "      <td>49741.02</td>\n",
       "      <td>NaN</td>\n",
       "    </tr>\n",
       "    <tr>\n",
       "      <th>3784883</th>\n",
       "      <td>1531600</td>\n",
       "      <td>103793</td>\n",
       "      <td>1.0</td>\n",
       "      <td>22</td>\n",
       "      <td>-218.0</td>\n",
       "      <td>NaN</td>\n",
       "      <td>49741.02</td>\n",
       "      <td>NaN</td>\n",
       "    </tr>\n",
       "    <tr>\n",
       "      <th>3774325</th>\n",
       "      <td>1531600</td>\n",
       "      <td>103793</td>\n",
       "      <td>1.0</td>\n",
       "      <td>23</td>\n",
       "      <td>-188.0</td>\n",
       "      <td>NaN</td>\n",
       "      <td>49741.02</td>\n",
       "      <td>NaN</td>\n",
       "    </tr>\n",
       "    <tr>\n",
       "      <th>3799630</th>\n",
       "      <td>1531600</td>\n",
       "      <td>103793</td>\n",
       "      <td>1.0</td>\n",
       "      <td>24</td>\n",
       "      <td>-158.0</td>\n",
       "      <td>NaN</td>\n",
       "      <td>49741.02</td>\n",
       "      <td>NaN</td>\n",
       "    </tr>\n",
       "    <tr>\n",
       "      <th>3764214</th>\n",
       "      <td>1531600</td>\n",
       "      <td>103793</td>\n",
       "      <td>1.0</td>\n",
       "      <td>25</td>\n",
       "      <td>-128.0</td>\n",
       "      <td>NaN</td>\n",
       "      <td>49741.02</td>\n",
       "      <td>NaN</td>\n",
       "    </tr>\n",
       "    <tr>\n",
       "      <th>3764294</th>\n",
       "      <td>1531600</td>\n",
       "      <td>103793</td>\n",
       "      <td>1.0</td>\n",
       "      <td>26</td>\n",
       "      <td>-98.0</td>\n",
       "      <td>NaN</td>\n",
       "      <td>49741.02</td>\n",
       "      <td>NaN</td>\n",
       "    </tr>\n",
       "    <tr>\n",
       "      <th>3794812</th>\n",
       "      <td>1531600</td>\n",
       "      <td>103793</td>\n",
       "      <td>1.0</td>\n",
       "      <td>27</td>\n",
       "      <td>-68.0</td>\n",
       "      <td>NaN</td>\n",
       "      <td>49741.02</td>\n",
       "      <td>NaN</td>\n",
       "    </tr>\n",
       "  </tbody>\n",
       "</table>\n",
       "</div>"
      ],
      "text/plain": [
       "         SK_ID_PREV  SK_ID_CURR  NUM_INSTALMENT_VERSION  \\\n",
       "1230469     1531600      103793                     1.0   \n",
       "3118659     1531600      103793                     1.0   \n",
       "1367795     1531600      103793                     1.0   \n",
       "802700      1531600      103793                     1.0   \n",
       "3769072     1531600      103793                     1.0   \n",
       "3799638     1531600      103793                     1.0   \n",
       "3764207     1531600      103793                     1.0   \n",
       "3794788     1531600      103793                     1.0   \n",
       "3794772     1531600      103793                     1.0   \n",
       "3774329     1531600      103793                     1.0   \n",
       "3779531     1531600      103793                     1.0   \n",
       "3799608     1531600      103793                     1.0   \n",
       "3779563     1531600      103793                     1.0   \n",
       "3799674     1531600      103793                     1.0   \n",
       "3784841     1531600      103793                     1.0   \n",
       "3789282     1531600      103793                     1.0   \n",
       "3779584     1531600      103793                     1.0   \n",
       "3779605     1531600      103793                     1.0   \n",
       "3779550     1531600      103793                     1.0   \n",
       "3764224     1531600      103793                     1.0   \n",
       "3764227     1531600      103793                     1.0   \n",
       "3784883     1531600      103793                     1.0   \n",
       "3774325     1531600      103793                     1.0   \n",
       "3799630     1531600      103793                     1.0   \n",
       "3764214     1531600      103793                     1.0   \n",
       "3764294     1531600      103793                     1.0   \n",
       "3794812     1531600      103793                     1.0   \n",
       "\n",
       "         NUM_INSTALMENT_NUMBER  DAYS_INSTALMENT  DAYS_ENTRY_PAYMENT  \\\n",
       "1230469                      1           -848.0              -866.0   \n",
       "3118659                      2           -818.0              -821.0   \n",
       "1367795                      3           -788.0              -785.0   \n",
       "802700                       4           -758.0              -752.0   \n",
       "3769072                      5           -728.0                 NaN   \n",
       "3799638                      6           -698.0                 NaN   \n",
       "3764207                      7           -668.0                 NaN   \n",
       "3794788                      8           -638.0                 NaN   \n",
       "3794772                      9           -608.0                 NaN   \n",
       "3774329                     10           -578.0                 NaN   \n",
       "3779531                     11           -548.0                 NaN   \n",
       "3799608                     12           -518.0                 NaN   \n",
       "3779563                     13           -488.0                 NaN   \n",
       "3799674                     14           -458.0                 NaN   \n",
       "3784841                     15           -428.0                 NaN   \n",
       "3789282                     16           -398.0                 NaN   \n",
       "3779584                     17           -368.0                 NaN   \n",
       "3779605                     18           -338.0                 NaN   \n",
       "3779550                     19           -308.0                 NaN   \n",
       "3764224                     20           -278.0                 NaN   \n",
       "3764227                     21           -248.0                 NaN   \n",
       "3784883                     22           -218.0                 NaN   \n",
       "3774325                     23           -188.0                 NaN   \n",
       "3799630                     24           -158.0                 NaN   \n",
       "3764214                     25           -128.0                 NaN   \n",
       "3764294                     26            -98.0                 NaN   \n",
       "3794812                     27            -68.0                 NaN   \n",
       "\n",
       "         AMT_INSTALMENT  AMT_PAYMENT  \n",
       "1230469        49741.02     49741.02  \n",
       "3118659        49741.02     49741.02  \n",
       "1367795        49741.02     49741.02  \n",
       "802700         49741.02     49738.50  \n",
       "3769072        49741.02          NaN  \n",
       "3799638        49741.02          NaN  \n",
       "3764207        49741.02          NaN  \n",
       "3794788        49741.02          NaN  \n",
       "3794772        49741.02          NaN  \n",
       "3774329        49741.02          NaN  \n",
       "3779531        49741.02          NaN  \n",
       "3799608        49741.02          NaN  \n",
       "3779563        49741.02          NaN  \n",
       "3799674        49741.02          NaN  \n",
       "3784841        49741.02          NaN  \n",
       "3789282        49741.02          NaN  \n",
       "3779584        49741.02          NaN  \n",
       "3779605        49741.02          NaN  \n",
       "3779550        49741.02          NaN  \n",
       "3764224        49741.02          NaN  \n",
       "3764227        49741.02          NaN  \n",
       "3784883        49741.02          NaN  \n",
       "3774325        49741.02          NaN  \n",
       "3799630        49741.02          NaN  \n",
       "3764214        49741.02          NaN  \n",
       "3764294        49741.02          NaN  \n",
       "3794812        49741.02          NaN  "
      ]
     },
     "execution_count": 13,
     "metadata": {},
     "output_type": "execute_result"
    }
   ],
   "source": [
    "installments_payments[installments_payments['SK_ID_PREV']==1531600].sort_values(by=['NUM_INSTALMENT_NUMBER'])"
   ]
  },
  {
   "cell_type": "code",
   "execution_count": 8,
   "metadata": {
    "collapsed": true
   },
   "outputs": [],
   "source": [
    "previous_app = pd.read_csv('previous_application.csv')"
   ]
  },
  {
   "cell_type": "code",
   "execution_count": 9,
   "metadata": {
    "collapsed": false
   },
   "outputs": [
    {
     "data": {
      "text/html": [
       "<div>\n",
       "<style scoped>\n",
       "    .dataframe tbody tr th:only-of-type {\n",
       "        vertical-align: middle;\n",
       "    }\n",
       "\n",
       "    .dataframe tbody tr th {\n",
       "        vertical-align: top;\n",
       "    }\n",
       "\n",
       "    .dataframe thead th {\n",
       "        text-align: right;\n",
       "    }\n",
       "</style>\n",
       "<table border=\"1\" class=\"dataframe\">\n",
       "  <thead>\n",
       "    <tr style=\"text-align: right;\">\n",
       "      <th></th>\n",
       "      <th>SK_ID_PREV</th>\n",
       "      <th>SK_ID_CURR</th>\n",
       "      <th>NAME_CONTRACT_TYPE</th>\n",
       "      <th>AMT_ANNUITY</th>\n",
       "      <th>AMT_APPLICATION</th>\n",
       "      <th>AMT_CREDIT</th>\n",
       "      <th>AMT_DOWN_PAYMENT</th>\n",
       "      <th>AMT_GOODS_PRICE</th>\n",
       "      <th>WEEKDAY_APPR_PROCESS_START</th>\n",
       "      <th>HOUR_APPR_PROCESS_START</th>\n",
       "      <th>FLAG_LAST_APPL_PER_CONTRACT</th>\n",
       "      <th>NFLAG_LAST_APPL_IN_DAY</th>\n",
       "      <th>RATE_DOWN_PAYMENT</th>\n",
       "      <th>RATE_INTEREST_PRIMARY</th>\n",
       "      <th>RATE_INTEREST_PRIVILEGED</th>\n",
       "      <th>NAME_CASH_LOAN_PURPOSE</th>\n",
       "      <th>NAME_CONTRACT_STATUS</th>\n",
       "      <th>DAYS_DECISION</th>\n",
       "      <th>NAME_PAYMENT_TYPE</th>\n",
       "      <th>CODE_REJECT_REASON</th>\n",
       "      <th>NAME_TYPE_SUITE</th>\n",
       "      <th>NAME_CLIENT_TYPE</th>\n",
       "      <th>NAME_GOODS_CATEGORY</th>\n",
       "      <th>NAME_PORTFOLIO</th>\n",
       "      <th>NAME_PRODUCT_TYPE</th>\n",
       "      <th>CHANNEL_TYPE</th>\n",
       "      <th>SELLERPLACE_AREA</th>\n",
       "      <th>NAME_SELLER_INDUSTRY</th>\n",
       "      <th>CNT_PAYMENT</th>\n",
       "      <th>NAME_YIELD_GROUP</th>\n",
       "      <th>PRODUCT_COMBINATION</th>\n",
       "      <th>DAYS_FIRST_DRAWING</th>\n",
       "      <th>DAYS_FIRST_DUE</th>\n",
       "      <th>DAYS_LAST_DUE_1ST_VERSION</th>\n",
       "      <th>DAYS_LAST_DUE</th>\n",
       "      <th>DAYS_TERMINATION</th>\n",
       "      <th>NFLAG_INSURED_ON_APPROVAL</th>\n",
       "    </tr>\n",
       "  </thead>\n",
       "  <tbody>\n",
       "    <tr>\n",
       "      <th>799003</th>\n",
       "      <td>1531600</td>\n",
       "      <td>103793</td>\n",
       "      <td>Cash loans</td>\n",
       "      <td>49741.02</td>\n",
       "      <td>1012500.0</td>\n",
       "      <td>1100709.0</td>\n",
       "      <td>NaN</td>\n",
       "      <td>1012500.0</td>\n",
       "      <td>WEDNESDAY</td>\n",
       "      <td>10</td>\n",
       "      <td>Y</td>\n",
       "      <td>1</td>\n",
       "      <td>NaN</td>\n",
       "      <td>NaN</td>\n",
       "      <td>NaN</td>\n",
       "      <td>XNA</td>\n",
       "      <td>Approved</td>\n",
       "      <td>-878</td>\n",
       "      <td>Cash through the bank</td>\n",
       "      <td>XAP</td>\n",
       "      <td>Unaccompanied</td>\n",
       "      <td>Repeater</td>\n",
       "      <td>XNA</td>\n",
       "      <td>Cash</td>\n",
       "      <td>x-sell</td>\n",
       "      <td>Country-wide</td>\n",
       "      <td>-1</td>\n",
       "      <td>XNA</td>\n",
       "      <td>36.0</td>\n",
       "      <td>middle</td>\n",
       "      <td>Cash X-Sell: middle</td>\n",
       "      <td>365243.0</td>\n",
       "      <td>-848.0</td>\n",
       "      <td>202.0</td>\n",
       "      <td>365243.0</td>\n",
       "      <td>365243.0</td>\n",
       "      <td>1.0</td>\n",
       "    </tr>\n",
       "  </tbody>\n",
       "</table>\n",
       "</div>"
      ],
      "text/plain": [
       "        SK_ID_PREV  SK_ID_CURR NAME_CONTRACT_TYPE  AMT_ANNUITY  \\\n",
       "799003     1531600      103793         Cash loans     49741.02   \n",
       "\n",
       "        AMT_APPLICATION  AMT_CREDIT  AMT_DOWN_PAYMENT  AMT_GOODS_PRICE  \\\n",
       "799003        1012500.0   1100709.0               NaN        1012500.0   \n",
       "\n",
       "       WEEKDAY_APPR_PROCESS_START  HOUR_APPR_PROCESS_START  \\\n",
       "799003                  WEDNESDAY                       10   \n",
       "\n",
       "       FLAG_LAST_APPL_PER_CONTRACT  NFLAG_LAST_APPL_IN_DAY  RATE_DOWN_PAYMENT  \\\n",
       "799003                           Y                       1                NaN   \n",
       "\n",
       "        RATE_INTEREST_PRIMARY  RATE_INTEREST_PRIVILEGED  \\\n",
       "799003                    NaN                       NaN   \n",
       "\n",
       "       NAME_CASH_LOAN_PURPOSE NAME_CONTRACT_STATUS  DAYS_DECISION  \\\n",
       "799003                    XNA             Approved           -878   \n",
       "\n",
       "            NAME_PAYMENT_TYPE CODE_REJECT_REASON NAME_TYPE_SUITE  \\\n",
       "799003  Cash through the bank                XAP   Unaccompanied   \n",
       "\n",
       "       NAME_CLIENT_TYPE NAME_GOODS_CATEGORY NAME_PORTFOLIO NAME_PRODUCT_TYPE  \\\n",
       "799003         Repeater                 XNA           Cash            x-sell   \n",
       "\n",
       "        CHANNEL_TYPE  SELLERPLACE_AREA NAME_SELLER_INDUSTRY  CNT_PAYMENT  \\\n",
       "799003  Country-wide                -1                  XNA         36.0   \n",
       "\n",
       "       NAME_YIELD_GROUP  PRODUCT_COMBINATION  DAYS_FIRST_DRAWING  \\\n",
       "799003           middle  Cash X-Sell: middle            365243.0   \n",
       "\n",
       "        DAYS_FIRST_DUE  DAYS_LAST_DUE_1ST_VERSION  DAYS_LAST_DUE  \\\n",
       "799003          -848.0                      202.0       365243.0   \n",
       "\n",
       "        DAYS_TERMINATION  NFLAG_INSURED_ON_APPROVAL  \n",
       "799003          365243.0                        1.0  "
      ]
     },
     "execution_count": 9,
     "metadata": {},
     "output_type": "execute_result"
    }
   ],
   "source": [
    "previous_app[previous_app['SK_ID_PREV']==1531600]"
   ]
  },
  {
   "cell_type": "code",
   "execution_count": 11,
   "metadata": {
    "collapsed": false
   },
   "outputs": [
    {
     "data": {
      "text/plain": [
       "458767"
      ]
     },
     "execution_count": 11,
     "metadata": {},
     "output_type": "execute_result"
    }
   ],
   "source": [
    "len(previous_app[(previous_app['NAME_CONTRACT_TYPE']=='Cash loans') & (previous_app['DAYS_FIRST_DUE'].isnull())])"
   ]
  },
  {
   "cell_type": "markdown",
   "metadata": {},
   "source": [
    "#### Find null records"
   ]
  },
  {
   "cell_type": "code",
   "execution_count": 31,
   "metadata": {
    "collapsed": true
   },
   "outputs": [],
   "source": [
    "installment_null = installments_payments[installments_payments['DAYS_ENTRY_PAYMENT'].isnull()]"
   ]
  },
  {
   "cell_type": "code",
   "execution_count": 36,
   "metadata": {
    "collapsed": true
   },
   "outputs": [],
   "source": [
    "installment_null_total_count = installment_null.groupby(['SK_ID_CURR'])['SK_ID_PREV'].count().reset_index()"
   ]
  },
  {
   "cell_type": "code",
   "execution_count": 39,
   "metadata": {
    "collapsed": true
   },
   "outputs": [],
   "source": [
    "installment_null_application = installment_null.groupby(['SK_ID_CURR'])['SK_ID_PREV'].nunique().reset_index()"
   ]
  },
  {
   "cell_type": "code",
   "execution_count": 42,
   "metadata": {
    "collapsed": true
   },
   "outputs": [],
   "source": [
    "installment_null_application = installment_null_application.rename(columns={'SK_ID_PREV':'INST_NUM_NULL_APPS'})\n",
    "installment_null_total_count = installment_null_total_count.rename(columns={'SK_ID_PREV':'INST_NUM_NULL_INSTS'})"
   ]
  },
  {
   "cell_type": "code",
   "execution_count": 43,
   "metadata": {
    "collapsed": true
   },
   "outputs": [],
   "source": [
    "installment_null = pd.merge(installment_null_total_count,installment_null_application,on=['SK_ID_CURR'],how='inner')"
   ]
  },
  {
   "cell_type": "markdown",
   "metadata": {},
   "source": [
    "#### New fields"
   ]
  },
  {
   "cell_type": "code",
   "execution_count": 45,
   "metadata": {
    "collapsed": true
   },
   "outputs": [],
   "source": [
    "installments_payments['DAYS_ENTRY_PAYMENT'] = installments_payments['DAYS_ENTRY_PAYMENT'].fillna(0)\n",
    "installments_payments['AMT_PAYMENT'] = installments_payments['AMT_PAYMENT'].fillna(0)\n",
    "installments_payments['DAYS_INSTALMENT'] = abs(installments_payments['DAYS_INSTALMENT'])\n",
    "installments_payments['DAYS_ENTRY_PAYMENT'] = abs(installments_payments['DAYS_ENTRY_PAYMENT'])\n"
   ]
  },
  {
   "cell_type": "code",
   "execution_count": 46,
   "metadata": {
    "collapsed": true
   },
   "outputs": [],
   "source": [
    "installments_payments['DAYS_DIFF'] = installments_payments['DAYS_INSTALMENT'] - installments_payments['DAYS_ENTRY_PAYMENT']\n",
    "installments_payments['AMT_DIFF'] = installments_payments['AMT_INSTALMENT'] - installments_payments['AMT_PAYMENT']\n",
    "installments_payments['AMT_DAYS_DIFF']= installments_payments['AMT_DIFF']/(1+installments_payments['DAYS_DIFF'])"
   ]
  },
  {
   "cell_type": "code",
   "execution_count": 47,
   "metadata": {
    "collapsed": false
   },
   "outputs": [
    {
     "data": {
      "text/html": [
       "<div>\n",
       "<style scoped>\n",
       "    .dataframe tbody tr th:only-of-type {\n",
       "        vertical-align: middle;\n",
       "    }\n",
       "\n",
       "    .dataframe tbody tr th {\n",
       "        vertical-align: top;\n",
       "    }\n",
       "\n",
       "    .dataframe thead th {\n",
       "        text-align: right;\n",
       "    }\n",
       "</style>\n",
       "<table border=\"1\" class=\"dataframe\">\n",
       "  <thead>\n",
       "    <tr style=\"text-align: right;\">\n",
       "      <th></th>\n",
       "      <th>SK_ID_PREV</th>\n",
       "      <th>SK_ID_CURR</th>\n",
       "      <th>NUM_INSTALMENT_VERSION</th>\n",
       "      <th>NUM_INSTALMENT_NUMBER</th>\n",
       "      <th>DAYS_INSTALMENT</th>\n",
       "      <th>DAYS_ENTRY_PAYMENT</th>\n",
       "      <th>AMT_INSTALMENT</th>\n",
       "      <th>AMT_PAYMENT</th>\n",
       "      <th>DAYS_DIFF</th>\n",
       "      <th>AMT_DIFF</th>\n",
       "      <th>AMT_DAYS_DIFF</th>\n",
       "    </tr>\n",
       "  </thead>\n",
       "  <tbody>\n",
       "    <tr>\n",
       "      <th>0</th>\n",
       "      <td>1054186</td>\n",
       "      <td>161674</td>\n",
       "      <td>1.0</td>\n",
       "      <td>6</td>\n",
       "      <td>1180.0</td>\n",
       "      <td>1187.0</td>\n",
       "      <td>6948.360</td>\n",
       "      <td>6948.360</td>\n",
       "      <td>-7.0</td>\n",
       "      <td>0.000</td>\n",
       "      <td>-0.0000</td>\n",
       "    </tr>\n",
       "    <tr>\n",
       "      <th>1</th>\n",
       "      <td>1330831</td>\n",
       "      <td>151639</td>\n",
       "      <td>0.0</td>\n",
       "      <td>34</td>\n",
       "      <td>2156.0</td>\n",
       "      <td>2156.0</td>\n",
       "      <td>1716.525</td>\n",
       "      <td>1716.525</td>\n",
       "      <td>0.0</td>\n",
       "      <td>0.000</td>\n",
       "      <td>0.0000</td>\n",
       "    </tr>\n",
       "    <tr>\n",
       "      <th>2</th>\n",
       "      <td>2085231</td>\n",
       "      <td>193053</td>\n",
       "      <td>2.0</td>\n",
       "      <td>1</td>\n",
       "      <td>63.0</td>\n",
       "      <td>63.0</td>\n",
       "      <td>25425.000</td>\n",
       "      <td>25425.000</td>\n",
       "      <td>0.0</td>\n",
       "      <td>0.000</td>\n",
       "      <td>0.0000</td>\n",
       "    </tr>\n",
       "    <tr>\n",
       "      <th>3</th>\n",
       "      <td>2452527</td>\n",
       "      <td>199697</td>\n",
       "      <td>1.0</td>\n",
       "      <td>3</td>\n",
       "      <td>2418.0</td>\n",
       "      <td>2426.0</td>\n",
       "      <td>24350.130</td>\n",
       "      <td>24350.130</td>\n",
       "      <td>-8.0</td>\n",
       "      <td>0.000</td>\n",
       "      <td>-0.0000</td>\n",
       "    </tr>\n",
       "    <tr>\n",
       "      <th>4</th>\n",
       "      <td>2714724</td>\n",
       "      <td>167756</td>\n",
       "      <td>1.0</td>\n",
       "      <td>2</td>\n",
       "      <td>1383.0</td>\n",
       "      <td>1366.0</td>\n",
       "      <td>2165.040</td>\n",
       "      <td>2160.585</td>\n",
       "      <td>17.0</td>\n",
       "      <td>4.455</td>\n",
       "      <td>0.2475</td>\n",
       "    </tr>\n",
       "  </tbody>\n",
       "</table>\n",
       "</div>"
      ],
      "text/plain": [
       "   SK_ID_PREV  SK_ID_CURR  NUM_INSTALMENT_VERSION  NUM_INSTALMENT_NUMBER  \\\n",
       "0     1054186      161674                     1.0                      6   \n",
       "1     1330831      151639                     0.0                     34   \n",
       "2     2085231      193053                     2.0                      1   \n",
       "3     2452527      199697                     1.0                      3   \n",
       "4     2714724      167756                     1.0                      2   \n",
       "\n",
       "   DAYS_INSTALMENT  DAYS_ENTRY_PAYMENT  AMT_INSTALMENT  AMT_PAYMENT  \\\n",
       "0           1180.0              1187.0        6948.360     6948.360   \n",
       "1           2156.0              2156.0        1716.525     1716.525   \n",
       "2             63.0                63.0       25425.000    25425.000   \n",
       "3           2418.0              2426.0       24350.130    24350.130   \n",
       "4           1383.0              1366.0        2165.040     2160.585   \n",
       "\n",
       "   DAYS_DIFF  AMT_DIFF  AMT_DAYS_DIFF  \n",
       "0       -7.0     0.000        -0.0000  \n",
       "1        0.0     0.000         0.0000  \n",
       "2        0.0     0.000         0.0000  \n",
       "3       -8.0     0.000        -0.0000  \n",
       "4       17.0     4.455         0.2475  "
      ]
     },
     "execution_count": 47,
     "metadata": {},
     "output_type": "execute_result"
    }
   ],
   "source": [
    "installments_payments.head()"
   ]
  },
  {
   "cell_type": "markdown",
   "metadata": {},
   "source": [
    "##### Find mean,max, min, sum & variance"
   ]
  },
  {
   "cell_type": "code",
   "execution_count": 9,
   "metadata": {
    "collapsed": false
   },
   "outputs": [
    {
     "data": {
      "text/html": [
       "<div>\n",
       "<style scoped>\n",
       "    .dataframe tbody tr th:only-of-type {\n",
       "        vertical-align: middle;\n",
       "    }\n",
       "\n",
       "    .dataframe tbody tr th {\n",
       "        vertical-align: top;\n",
       "    }\n",
       "\n",
       "    .dataframe thead th {\n",
       "        text-align: right;\n",
       "    }\n",
       "</style>\n",
       "<table border=\"1\" class=\"dataframe\">\n",
       "  <thead>\n",
       "    <tr style=\"text-align: right;\">\n",
       "      <th></th>\n",
       "      <th>SK_ID_PREV</th>\n",
       "      <th>SK_ID_CURR</th>\n",
       "      <th>NUM_INSTALMENT_VERSION</th>\n",
       "      <th>NUM_INSTALMENT_NUMBER</th>\n",
       "      <th>DAYS_INSTALMENT</th>\n",
       "      <th>DAYS_ENTRY_PAYMENT</th>\n",
       "      <th>AMT_INSTALMENT</th>\n",
       "      <th>AMT_PAYMENT</th>\n",
       "    </tr>\n",
       "  </thead>\n",
       "  <tbody>\n",
       "  </tbody>\n",
       "</table>\n",
       "</div>"
      ],
      "text/plain": [
       "Empty DataFrame\n",
       "Columns: [SK_ID_PREV, SK_ID_CURR, NUM_INSTALMENT_VERSION, NUM_INSTALMENT_NUMBER, DAYS_INSTALMENT, DAYS_ENTRY_PAYMENT, AMT_INSTALMENT, AMT_PAYMENT]\n",
       "Index: []"
      ]
     },
     "execution_count": 9,
     "metadata": {},
     "output_type": "execute_result"
    }
   ],
   "source": [
    "installments_payments[installments_payments['DAYS_ENTRY_PAYMENT']>0].head()"
   ]
  },
  {
   "cell_type": "code",
   "execution_count": 49,
   "metadata": {
    "collapsed": true
   },
   "outputs": [],
   "source": [
    "#Find average amount per client & latest\n",
    "installments_payments_cnt = installments_payments[['SK_ID_CURR','SK_ID_PREV']]\n",
    "installments_payments_cnt = installments_payments_cnt.groupby(['SK_ID_CURR']).count().reset_index()\n",
    "installments_payments_cnt = installments_payments_cnt.rename(columns={'SK_ID_PREV':'CNT_INSTALLMENT_REC'})\n",
    "installments_payments_cal = installments_payments[['SK_ID_CURR','NUM_INSTALMENT_VERSION','NUM_INSTALMENT_NUMBER'\n",
    "                                                  ,'DAYS_INSTALMENT','DAYS_ENTRY_PAYMENT','AMT_INSTALMENT','AMT_PAYMENT',\n",
    "                                                  'DAYS_DIFF','AMT_DIFF','AMT_DAYS_DIFF']]\n",
    "installments_payments_mean = installments_payments_cal.groupby(['SK_ID_CURR']).max().reset_index()\n",
    "installments_payments_max = installments_payments_cal.groupby(['SK_ID_CURR']).max().reset_index()\n",
    "installments_payments_min = installments_payments_cal.groupby(['SK_ID_CURR']).min().reset_index()\n",
    "installments_payments_sum = installments_payments_cal.groupby(['SK_ID_CURR']).sum().reset_index()\n",
    "installments_payments_var = installments_payments_cal.groupby(['SK_ID_CURR']).var().reset_index()"
   ]
  },
  {
   "cell_type": "code",
   "execution_count": 51,
   "metadata": {
    "collapsed": true
   },
   "outputs": [],
   "source": [
    "installments_payments_mean = installments_payments_mean.rename(columns={'AMT_INSTALMENT':'MEAN_AMT_INSTALMENT',\n",
    "                                                                        'DAYS_ENTRY_PAYMENT':'MEAN_DAYS_ENTRY_PAYMENT'\n",
    "                                                                       ,'DAYS_INSTALMENT':'MEAN_DAYS_INSTALMENT'\n",
    "                                                                       ,'AMT_PAYMENT':'MEAN_AMT_PAYMENT',\n",
    "                                                                       'NUM_INSTALMENT_NUMBER':'MEAN_NUM_INSTALMENT_NUMBER',\n",
    "                                                                       'NUM_INSTALMENT_VERSION':'MEAN_NUM_INSTALMENT_VERSION',\n",
    "                                                                       'DAYS_DIFF':'MEAN_DAYS_DIFF',\n",
    "                                                                       'AMT_DIFF':'MEAN_AMT_DIFF',\n",
    "                                                                       'AMT_DAYS_DIFF':'MEAN_AMT_DAYS_DIFF'})\n"
   ]
  },
  {
   "cell_type": "markdown",
   "metadata": {},
   "source": [
    "##### Rename column names "
   ]
  },
  {
   "cell_type": "code",
   "execution_count": 53,
   "metadata": {
    "collapsed": true
   },
   "outputs": [],
   "source": [
    "installments_payments_max = installments_payments_max.rename(columns={'AMT_INSTALMENT':'MAX_AMT_INSTALMENT',\n",
    "                                                                        'DAYS_ENTRY_PAYMENT':'MAX_DAYS_ENTRY_PAYMENT'\n",
    "                                                                       ,'DAYS_INSTALMENT':'MAX_DAYS_INSTALMENT'\n",
    "                                                                       ,'AMT_PAYMENT':'MAX_AMT_PAYMENT',\n",
    "                                                                       'NUM_INSTALMENT_NUMBER':'MAX_NUM_INSTALMENT_NUMBER',\n",
    "                                                                       'NUM_INSTALMENT_VERSION':'MAX_NUM_INSTALMENT_VERSION',\n",
    "                                                                       'DAYS_DIFF':'MAX_DAYS_DIFF',\n",
    "                                                                       'AMT_DIFF':'MAX_AMT_DIFF',\n",
    "                                                                       'AMT_DAYS_DIFF':'MAX_AMT_DAYS_DIFF'})\n",
    "\n",
    "installments_payments_min = installments_payments_min.rename(columns={'AMT_INSTALMENT':'MIN_AMT_INSTALMENT',\n",
    "                                                                        'DAYS_ENTRY_PAYMENT':'MIN_DAYS_ENTRY_PAYMENT'\n",
    "                                                                       ,'DAYS_INSTALMENT':'MIN_DAYS_INSTALMENT'\n",
    "                                                                       ,'AMT_PAYMENT':'MIN_AMT_PAYMENT',\n",
    "                                                                       'NUM_INSTALMENT_NUMBER':'MIN_NUM_INSTALMENT_NUMBER',\n",
    "                                                                       'NUM_INSTALMENT_VERSION':'MIN_NUM_INSTALMENT_VERSION',\n",
    "                                                                       'DAYS_DIFF':'MIN_DAYS_DIFF',\n",
    "                                                                       'AMT_DIFF':'MIN_AMT_DIFF',\n",
    "                                                                       'AMT_DAYS_DIFF':'MIN_AMT_DAYS_DIFF'})\n",
    "\n"
   ]
  },
  {
   "cell_type": "code",
   "execution_count": 54,
   "metadata": {
    "collapsed": true
   },
   "outputs": [],
   "source": [
    "installments_payments_sum = installments_payments_sum.rename(columns={'AMT_INSTALMENT':'SUM_AMT_INSTALMENT',\n",
    "                                                                        'DAYS_ENTRY_PAYMENT':'SUM_DAYS_ENTRY_PAYMENT'\n",
    "                                                                       ,'DAYS_INSTALMENT':'SUM_DAYS_INSTALMENT'\n",
    "                                                                       ,'AMT_PAYMENT':'SUMAMT_PAYMENT',\n",
    "                                                                       'NUM_INSTALMENT_NUMBER':'SUM_NUM_INSTALMENT_NUMBER',\n",
    "                                                                       'NUM_INSTALMENT_VERSION':'SUM_NUM_INSTALMENT_VERSION',\n",
    "                                                                       'DAYS_DIFF':'SUM_DAYS_DIFF',\n",
    "                                                                       'AMT_DIFF':'SUM_AMT_DIFF',\n",
    "                                                                       'AMT_DAYS_DIFF':'SUM_AMT_DAYS_DIFF'})\n",
    "\n",
    "installments_payments_var = installments_payments_var.rename(columns={'AMT_INSTALMENT':'VAR_AMT_INSTALMENT',\n",
    "                                                                        'DAYS_ENTRY_PAYMENT':'VAR_DAYS_ENTRY_PAYMENT'\n",
    "                                                                       ,'DAYS_INSTALMENT':'VAR_DAYS_INSTALMENT'\n",
    "                                                                       ,'AMT_PAYMENT':'VAR_AMT_PAYMENT',\n",
    "                                                                       'NUM_INSTALMENT_NUMBER':'VAR_NUM_INSTALMENT_NUMBER',\n",
    "                                                                       'NUM_INSTALMENT_VERSION':'VAR_NUM_INSTALMENT_VERSION',\n",
    "                                                                       'DAYS_DIFF':'VAR_DAYS_DIFF',\n",
    "                                                                       'AMT_DIFF':'VAR_AMT_DIFF',\n",
    "                                                                       'AMT_DAYS_DIFF':'VAR_AMT_DAYS_DIFF'})\n"
   ]
  },
  {
   "cell_type": "markdown",
   "metadata": {},
   "source": [
    "##### Join data sets. Result will be one record per CURR ID"
   ]
  },
  {
   "cell_type": "code",
   "execution_count": 63,
   "metadata": {
    "collapsed": true
   },
   "outputs": [],
   "source": [
    "installment_total_perclient = pd.merge(installments_payments_mean,installments_payments_var,on=['SK_ID_CURR'],how='inner')\n",
    "installment_total_perclient = pd.merge(installment_total_perclient,installments_payments_sum,on=['SK_ID_CURR'],how='inner')\n",
    "installment_total_perclient = pd.merge(installment_total_perclient,installments_payments_min,on=['SK_ID_CURR'],how='inner')\n",
    "installment_total_perclient = pd.merge(installment_total_perclient,installments_payments_max,on=['SK_ID_CURR'],how='inner')"
   ]
  },
  {
   "cell_type": "code",
   "execution_count": 64,
   "metadata": {
    "collapsed": true
   },
   "outputs": [],
   "source": [
    "installment_total_perclient = pd.merge(installment_total_perclient,installment_null,on=['SK_ID_CURR'],how='left')"
   ]
  },
  {
   "cell_type": "code",
   "execution_count": 67,
   "metadata": {
    "collapsed": true,
    "scrolled": true
   },
   "outputs": [],
   "source": [
    "installment_total_perclient['INST_NUM_NULL_INSTS'] = installment_total_perclient['INST_NUM_NULL_INSTS'].fillna(0)\n",
    "installment_total_perclient['INST_NUM_NULL_APPS'] = installment_total_perclient['INST_NUM_NULL_APPS'].fillna(0)"
   ]
  },
  {
   "cell_type": "markdown",
   "metadata": {},
   "source": [
    "#### Check for missing values. Find SK_ID_CURR which has missing values. Check the number of records in application test data. Since there are only 120 records in application test. We are droping records with na values in next line"
   ]
  },
  {
   "cell_type": "code",
   "execution_count": 68,
   "metadata": {
    "collapsed": false
   },
   "outputs": [
    {
     "name": "stdout",
     "output_type": "stream",
     "text": [
      "Your selected dataframe has 48 columns.\n",
      "There are 13 columns that have missing values.\n"
     ]
    },
    {
     "data": {
      "text/html": [
       "<div>\n",
       "<style scoped>\n",
       "    .dataframe tbody tr th:only-of-type {\n",
       "        vertical-align: middle;\n",
       "    }\n",
       "\n",
       "    .dataframe tbody tr th {\n",
       "        vertical-align: top;\n",
       "    }\n",
       "\n",
       "    .dataframe thead th {\n",
       "        text-align: right;\n",
       "    }\n",
       "</style>\n",
       "<table border=\"1\" class=\"dataframe\">\n",
       "  <thead>\n",
       "    <tr style=\"text-align: right;\">\n",
       "      <th></th>\n",
       "      <th>Missing Values</th>\n",
       "      <th>% of Total Values</th>\n",
       "      <th>column_name</th>\n",
       "    </tr>\n",
       "  </thead>\n",
       "  <tbody>\n",
       "    <tr>\n",
       "      <th>0</th>\n",
       "      <td>15354</td>\n",
       "      <td>4.5</td>\n",
       "      <td>VAR_AMT_DAYS_DIFF</td>\n",
       "    </tr>\n",
       "    <tr>\n",
       "      <th>1</th>\n",
       "      <td>972</td>\n",
       "      <td>0.3</td>\n",
       "      <td>VAR_NUM_INSTALMENT_VERSION</td>\n",
       "    </tr>\n",
       "    <tr>\n",
       "      <th>2</th>\n",
       "      <td>972</td>\n",
       "      <td>0.3</td>\n",
       "      <td>VAR_NUM_INSTALMENT_NUMBER</td>\n",
       "    </tr>\n",
       "    <tr>\n",
       "      <th>3</th>\n",
       "      <td>972</td>\n",
       "      <td>0.3</td>\n",
       "      <td>VAR_DAYS_INSTALMENT</td>\n",
       "    </tr>\n",
       "    <tr>\n",
       "      <th>4</th>\n",
       "      <td>972</td>\n",
       "      <td>0.3</td>\n",
       "      <td>VAR_DAYS_ENTRY_PAYMENT</td>\n",
       "    </tr>\n",
       "    <tr>\n",
       "      <th>5</th>\n",
       "      <td>972</td>\n",
       "      <td>0.3</td>\n",
       "      <td>VAR_AMT_INSTALMENT</td>\n",
       "    </tr>\n",
       "    <tr>\n",
       "      <th>6</th>\n",
       "      <td>972</td>\n",
       "      <td>0.3</td>\n",
       "      <td>VAR_AMT_PAYMENT</td>\n",
       "    </tr>\n",
       "    <tr>\n",
       "      <th>7</th>\n",
       "      <td>972</td>\n",
       "      <td>0.3</td>\n",
       "      <td>VAR_DAYS_DIFF</td>\n",
       "    </tr>\n",
       "    <tr>\n",
       "      <th>8</th>\n",
       "      <td>972</td>\n",
       "      <td>0.3</td>\n",
       "      <td>VAR_AMT_DIFF</td>\n",
       "    </tr>\n",
       "    <tr>\n",
       "      <th>9</th>\n",
       "      <td>208</td>\n",
       "      <td>0.1</td>\n",
       "      <td>SUM_AMT_DAYS_DIFF</td>\n",
       "    </tr>\n",
       "    <tr>\n",
       "      <th>10</th>\n",
       "      <td>34</td>\n",
       "      <td>0.0</td>\n",
       "      <td>MEAN_AMT_DAYS_DIFF</td>\n",
       "    </tr>\n",
       "    <tr>\n",
       "      <th>11</th>\n",
       "      <td>34</td>\n",
       "      <td>0.0</td>\n",
       "      <td>MIN_AMT_DAYS_DIFF</td>\n",
       "    </tr>\n",
       "    <tr>\n",
       "      <th>12</th>\n",
       "      <td>34</td>\n",
       "      <td>0.0</td>\n",
       "      <td>MAX_AMT_DAYS_DIFF</td>\n",
       "    </tr>\n",
       "  </tbody>\n",
       "</table>\n",
       "</div>"
      ],
      "text/plain": [
       "    Missing Values  % of Total Values                 column_name\n",
       "0            15354                4.5           VAR_AMT_DAYS_DIFF\n",
       "1              972                0.3  VAR_NUM_INSTALMENT_VERSION\n",
       "2              972                0.3   VAR_NUM_INSTALMENT_NUMBER\n",
       "3              972                0.3         VAR_DAYS_INSTALMENT\n",
       "4              972                0.3      VAR_DAYS_ENTRY_PAYMENT\n",
       "5              972                0.3          VAR_AMT_INSTALMENT\n",
       "6              972                0.3             VAR_AMT_PAYMENT\n",
       "7              972                0.3               VAR_DAYS_DIFF\n",
       "8              972                0.3                VAR_AMT_DIFF\n",
       "9              208                0.1           SUM_AMT_DAYS_DIFF\n",
       "10              34                0.0          MEAN_AMT_DAYS_DIFF\n",
       "11              34                0.0           MIN_AMT_DAYS_DIFF\n",
       "12              34                0.0           MAX_AMT_DAYS_DIFF"
      ]
     },
     "execution_count": 68,
     "metadata": {},
     "output_type": "execute_result"
    }
   ],
   "source": [
    "#Check for missing values\n",
    "missing_values = missing_values_table(installment_total_perclient)\n",
    "missing_values['column_name'] = missing_values.index\n",
    "missing_values = missing_values.reset_index(drop = True)\n",
    "missing_values"
   ]
  },
  {
   "cell_type": "code",
   "execution_count": 69,
   "metadata": {
    "collapsed": true
   },
   "outputs": [],
   "source": [
    "installment_total_perclient = installment_total_perclient.drop(columns=['VAR_AMT_DAYS_DIFF'])"
   ]
  },
  {
   "cell_type": "code",
   "execution_count": 73,
   "metadata": {
    "collapsed": false
   },
   "outputs": [
    {
     "name": "stdout",
     "output_type": "stream",
     "text": [
      "Your selected dataframe has 49 columns.\n",
      "There are 0 columns that have missing values.\n"
     ]
    },
    {
     "data": {
      "text/html": [
       "<div>\n",
       "<style scoped>\n",
       "    .dataframe tbody tr th:only-of-type {\n",
       "        vertical-align: middle;\n",
       "    }\n",
       "\n",
       "    .dataframe tbody tr th {\n",
       "        vertical-align: top;\n",
       "    }\n",
       "\n",
       "    .dataframe thead th {\n",
       "        text-align: right;\n",
       "    }\n",
       "</style>\n",
       "<table border=\"1\" class=\"dataframe\">\n",
       "  <thead>\n",
       "    <tr style=\"text-align: right;\">\n",
       "      <th></th>\n",
       "      <th>Missing Values</th>\n",
       "      <th>% of Total Values</th>\n",
       "      <th>column_name</th>\n",
       "    </tr>\n",
       "  </thead>\n",
       "  <tbody>\n",
       "  </tbody>\n",
       "</table>\n",
       "</div>"
      ],
      "text/plain": [
       "Empty DataFrame\n",
       "Columns: [Missing Values, % of Total Values, column_name]\n",
       "Index: []"
      ]
     },
     "execution_count": 73,
     "metadata": {},
     "output_type": "execute_result"
    }
   ],
   "source": [
    "#Check for missing values\n",
    "missing_values = missing_values_table(installment_total_perclient)\n",
    "missing_values['column_name'] = missing_values.index\n",
    "missing_values = missing_values.reset_index(drop = True)\n",
    "missing_values"
   ]
  },
  {
   "cell_type": "code",
   "execution_count": 71,
   "metadata": {
    "collapsed": true
   },
   "outputs": [],
   "source": [
    "installment_total_perclient = installment_total_perclient.fillna(-1)"
   ]
  },
  {
   "cell_type": "code",
   "execution_count": 72,
   "metadata": {
    "collapsed": true
   },
   "outputs": [],
   "source": [
    "installment_total_perclient['SUM_DPD'] = installment_total_perclient['SUM_DAYS_ENTRY_PAYMENT'] - installment_total_perclient['SUM_DAYS_INSTALMENT']\n",
    "installment_total_perclient['SUM_DBD'] = installment_total_perclient['SUM_DAYS_INSTALMENT'] - installment_total_perclient['SUM_DAYS_ENTRY_PAYMENT']\n",
    "installment_total_perclient['SUM_DPD'] = installment_total_perclient['SUM_DPD'].apply(lambda x: x if x > 0 else 0)\n",
    "installment_total_perclient['SUM_DBD'] = installment_total_perclient['SUM_DBD'].apply(lambda x: x if x > 0 else 0)"
   ]
  },
  {
   "cell_type": "code",
   "execution_count": 74,
   "metadata": {
    "collapsed": false
   },
   "outputs": [
    {
     "data": {
      "text/plain": [
       "(339587, 49)"
      ]
     },
     "execution_count": 74,
     "metadata": {},
     "output_type": "execute_result"
    }
   ],
   "source": [
    "installment_total_perclient.shape"
   ]
  },
  {
   "cell_type": "code",
   "execution_count": 75,
   "metadata": {
    "collapsed": true
   },
   "outputs": [],
   "source": [
    "installment_total_perclient.to_csv('tmp_installment.csv',index=False)"
   ]
  }
 ],
 "metadata": {
  "kernelspec": {
   "display_name": "Python [Root]",
   "language": "python",
   "name": "Python [Root]"
  },
  "language_info": {
   "codemirror_mode": {
    "name": "ipython",
    "version": 2
   },
   "file_extension": ".py",
   "mimetype": "text/x-python",
   "name": "python",
   "nbconvert_exporter": "python",
   "pygments_lexer": "ipython2",
   "version": "2.7.12"
  }
 },
 "nbformat": 4,
 "nbformat_minor": 2
}
