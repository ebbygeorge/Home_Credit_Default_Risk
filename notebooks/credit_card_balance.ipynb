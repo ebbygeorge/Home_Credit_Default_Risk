{
 "cells": [
  {
   "cell_type": "code",
   "execution_count": 72,
   "metadata": {
    "collapsed": true
   },
   "outputs": [],
   "source": [
    "import pandas as pd\n",
    "import numpy as np\n",
    "pd.options.display.max_columns = 999\n",
    "pd.options.display.max_rows = 999"
   ]
  },
  {
   "cell_type": "code",
   "execution_count": 73,
   "metadata": {
    "collapsed": true
   },
   "outputs": [],
   "source": [
    "credit_card_balance = pd.read_csv('credit_card_balance.csv')\n",
    "#previous_application = pd.read_csv('previous_application.csv')"
   ]
  },
  {
   "cell_type": "code",
   "execution_count": 74,
   "metadata": {
    "collapsed": true
   },
   "outputs": [],
   "source": [
    "#Encoding categorical variables\n",
    "from sklearn import preprocessing\n",
    "le = preprocessing.LabelEncoder()\n",
    "def encoding_cat_vars(df,le):\n",
    "    le_count = 0\n",
    "    one_hot_count = 0\n",
    "    # Iterate through the columns\n",
    "    for col in df:\n",
    "        if df[col].dtype == 'object' or df[col].dtype =='bool' :\n",
    "            # If 2 or fewer unique categories\n",
    "            if len(list(df[col].unique())) <= 2:\n",
    "                # Train on the training data\n",
    "                le.fit(df[col])\n",
    "                # Transform both training and testing data\n",
    "                df[col] = le.transform(df[col])    \n",
    "                # Keep track of how many columns were label encoded\n",
    "                le_count += 1\n",
    "            else:\n",
    "                one_hot_count +=1\n",
    "    print (\"no of columns label encoded : \"+str(le_count))\n",
    "    #One Hot encoding\n",
    "    df = pd.get_dummies(df)\n",
    "    print (\"no of columns one hot encoded encoded : \"+str(one_hot_count))\n",
    "    return df"
   ]
  },
  {
   "cell_type": "code",
   "execution_count": 75,
   "metadata": {
    "collapsed": true
   },
   "outputs": [],
   "source": [
    "## Missing values###########\n",
    "def missing_values_table(df):\n",
    "        # Total missing values\n",
    "        mis_val = df.isnull().sum()\n",
    "        \n",
    "        # Percentage of missing values\n",
    "        mis_val_percent = 100 * df.isnull().sum() / len(df)\n",
    "        \n",
    "        # Make a table with the results\n",
    "        mis_val_table = pd.concat([mis_val, mis_val_percent], axis=1)\n",
    "        \n",
    "        # Rename the columns\n",
    "        mis_val_table_ren_columns = mis_val_table.rename(\n",
    "        columns = {0 : 'Missing Values', 1 : '% of Total Values'})\n",
    "        \n",
    "        # Sort the table by percentage of missing descending\n",
    "        mis_val_table_ren_columns = mis_val_table_ren_columns[\n",
    "            mis_val_table_ren_columns.iloc[:,1] != 0].sort_values(\n",
    "        '% of Total Values', ascending=False).round(1)\n",
    "        \n",
    "        # Print some summary information\n",
    "        print (\"Your selected dataframe has \" + str(df.shape[1]) + \" columns.\\n\"      \n",
    "            \"There are \" + str(mis_val_table_ren_columns.shape[0]) +\n",
    "              \" columns that have missing values.\")\n",
    "        \n",
    "        # Return the dataframe with missing information\n",
    "        return mis_val_table_ren_columns\n",
    "###############################"
   ]
  },
  {
   "cell_type": "code",
   "execution_count": 76,
   "metadata": {
    "collapsed": true
   },
   "outputs": [],
   "source": [
    "#Removing highly correlated field in TMP_APP_TRAIN & TEST\n",
    "def cor_find(df,threshold):\n",
    "    corr_matrix = df.corr().abs()\n",
    "    upper = corr_matrix.where(np.triu(np.ones(corr_matrix.shape), k=1).astype(np.bool))\n",
    "    to_drop = [column for column in upper.columns if any(upper[column] > threshold)]\n",
    "    return corr_matrix,upper,to_drop"
   ]
  },
  {
   "cell_type": "code",
   "execution_count": 77,
   "metadata": {
    "collapsed": false
   },
   "outputs": [
    {
     "name": "stdout",
     "output_type": "stream",
     "text": [
      "Your selected dataframe has 23 columns.\n",
      "There are 9 columns that have missing values.\n"
     ]
    },
    {
     "data": {
      "text/html": [
       "<div>\n",
       "<style scoped>\n",
       "    .dataframe tbody tr th:only-of-type {\n",
       "        vertical-align: middle;\n",
       "    }\n",
       "\n",
       "    .dataframe tbody tr th {\n",
       "        vertical-align: top;\n",
       "    }\n",
       "\n",
       "    .dataframe thead th {\n",
       "        text-align: right;\n",
       "    }\n",
       "</style>\n",
       "<table border=\"1\" class=\"dataframe\">\n",
       "  <thead>\n",
       "    <tr style=\"text-align: right;\">\n",
       "      <th></th>\n",
       "      <th>Missing Values</th>\n",
       "      <th>% of Total Values</th>\n",
       "      <th>column_name</th>\n",
       "    </tr>\n",
       "  </thead>\n",
       "  <tbody>\n",
       "    <tr>\n",
       "      <th>0</th>\n",
       "      <td>767988</td>\n",
       "      <td>20.0</td>\n",
       "      <td>AMT_PAYMENT_CURRENT</td>\n",
       "    </tr>\n",
       "    <tr>\n",
       "      <th>1</th>\n",
       "      <td>749816</td>\n",
       "      <td>19.5</td>\n",
       "      <td>AMT_DRAWINGS_ATM_CURRENT</td>\n",
       "    </tr>\n",
       "    <tr>\n",
       "      <th>2</th>\n",
       "      <td>749816</td>\n",
       "      <td>19.5</td>\n",
       "      <td>AMT_DRAWINGS_OTHER_CURRENT</td>\n",
       "    </tr>\n",
       "    <tr>\n",
       "      <th>3</th>\n",
       "      <td>749816</td>\n",
       "      <td>19.5</td>\n",
       "      <td>AMT_DRAWINGS_POS_CURRENT</td>\n",
       "    </tr>\n",
       "    <tr>\n",
       "      <th>4</th>\n",
       "      <td>749816</td>\n",
       "      <td>19.5</td>\n",
       "      <td>CNT_DRAWINGS_ATM_CURRENT</td>\n",
       "    </tr>\n",
       "    <tr>\n",
       "      <th>5</th>\n",
       "      <td>749816</td>\n",
       "      <td>19.5</td>\n",
       "      <td>CNT_DRAWINGS_OTHER_CURRENT</td>\n",
       "    </tr>\n",
       "    <tr>\n",
       "      <th>6</th>\n",
       "      <td>749816</td>\n",
       "      <td>19.5</td>\n",
       "      <td>CNT_DRAWINGS_POS_CURRENT</td>\n",
       "    </tr>\n",
       "    <tr>\n",
       "      <th>7</th>\n",
       "      <td>305236</td>\n",
       "      <td>7.9</td>\n",
       "      <td>AMT_INST_MIN_REGULARITY</td>\n",
       "    </tr>\n",
       "    <tr>\n",
       "      <th>8</th>\n",
       "      <td>305236</td>\n",
       "      <td>7.9</td>\n",
       "      <td>CNT_INSTALMENT_MATURE_CUM</td>\n",
       "    </tr>\n",
       "  </tbody>\n",
       "</table>\n",
       "</div>"
      ],
      "text/plain": [
       "   Missing Values  % of Total Values                 column_name\n",
       "0          767988               20.0         AMT_PAYMENT_CURRENT\n",
       "1          749816               19.5    AMT_DRAWINGS_ATM_CURRENT\n",
       "2          749816               19.5  AMT_DRAWINGS_OTHER_CURRENT\n",
       "3          749816               19.5    AMT_DRAWINGS_POS_CURRENT\n",
       "4          749816               19.5    CNT_DRAWINGS_ATM_CURRENT\n",
       "5          749816               19.5  CNT_DRAWINGS_OTHER_CURRENT\n",
       "6          749816               19.5    CNT_DRAWINGS_POS_CURRENT\n",
       "7          305236                7.9     AMT_INST_MIN_REGULARITY\n",
       "8          305236                7.9   CNT_INSTALMENT_MATURE_CUM"
      ]
     },
     "execution_count": 77,
     "metadata": {},
     "output_type": "execute_result"
    }
   ],
   "source": [
    "#Check for missing values\n",
    "missing_values = missing_values_table(credit_card_balance)\n",
    "missing_values['column_name'] = missing_values.index\n",
    "missing_values = missing_values.reset_index(drop = True)\n",
    "missing_values"
   ]
  },
  {
   "cell_type": "markdown",
   "metadata": {},
   "source": [
    "#### Imputing ATM DRAWINGS & CNT DRAWINGS . POS + OTHER + CURRENT = TOTAL"
   ]
  },
  {
   "cell_type": "code",
   "execution_count": 78,
   "metadata": {
    "collapsed": true
   },
   "outputs": [],
   "source": [
    "credit_card_balance['AMT_DRAWINGS_ATM_CURRENT'] = np.where(credit_card_balance['AMT_DRAWINGS_ATM_CURRENT'].isnull(),\n",
    "                                                          np.where(credit_card_balance['AMT_DRAWINGS_CURRENT']==0,0,credit_card_balance['AMT_DRAWINGS_ATM_CURRENT']),\n",
    "                                                          credit_card_balance['AMT_DRAWINGS_ATM_CURRENT'])\n",
    "credit_card_balance['AMT_DRAWINGS_OTHER_CURRENT'] = np.where(credit_card_balance['AMT_DRAWINGS_OTHER_CURRENT'].isnull(),\n",
    "                                                          np.where(credit_card_balance['AMT_DRAWINGS_CURRENT']==0,0,credit_card_balance['AMT_DRAWINGS_OTHER_CURRENT']),\n",
    "                                                            credit_card_balance['AMT_DRAWINGS_OTHER_CURRENT'])\n",
    "credit_card_balance['AMT_DRAWINGS_POS_CURRENT'] = np.where(credit_card_balance['AMT_DRAWINGS_POS_CURRENT'].isnull(),\n",
    "                                                          np.where(credit_card_balance['AMT_DRAWINGS_CURRENT']==0,0,credit_card_balance['AMT_DRAWINGS_POS_CURRENT']),\n",
    "                                                          credit_card_balance['AMT_DRAWINGS_POS_CURRENT'])"
   ]
  },
  {
   "cell_type": "code",
   "execution_count": 79,
   "metadata": {
    "collapsed": true
   },
   "outputs": [],
   "source": [
    "credit_card_balance['CNT_DRAWINGS_ATM_CURRENT'] = np.where(credit_card_balance['CNT_DRAWINGS_ATM_CURRENT'].isnull(),\n",
    "                                                          np.where(credit_card_balance['CNT_DRAWINGS_CURRENT']==0,0,credit_card_balance['CNT_DRAWINGS_ATM_CURRENT']),\n",
    "                                                          credit_card_balance['CNT_DRAWINGS_ATM_CURRENT'])\n",
    "credit_card_balance['CNT_DRAWINGS_OTHER_CURRENT'] = np.where(credit_card_balance['CNT_DRAWINGS_OTHER_CURRENT'].isnull(),\n",
    "                                                          np.where(credit_card_balance['CNT_DRAWINGS_CURRENT']==0,0,credit_card_balance['CNT_DRAWINGS_OTHER_CURRENT']),\n",
    "                                                            credit_card_balance['CNT_DRAWINGS_OTHER_CURRENT'])\n",
    "credit_card_balance['CNT_DRAWINGS_POS_CURRENT'] = np.where(credit_card_balance['CNT_DRAWINGS_POS_CURRENT'].isnull(),\n",
    "                                                          np.where(credit_card_balance['CNT_DRAWINGS_CURRENT']==0,0,credit_card_balance['CNT_DRAWINGS_POS_CURRENT']),\n",
    "                                                          credit_card_balance['CNT_DRAWINGS_POS_CURRENT'])"
   ]
  },
  {
   "cell_type": "code",
   "execution_count": 80,
   "metadata": {
    "collapsed": true
   },
   "outputs": [],
   "source": [
    "credit_card_balance['AMT_PAYMENT_CURRENT'] = credit_card_balance['AMT_PAYMENT_CURRENT'].fillna(0)"
   ]
  },
  {
   "cell_type": "code",
   "execution_count": 81,
   "metadata": {
    "collapsed": false
   },
   "outputs": [
    {
     "data": {
      "text/plain": [
       "array([     0.  , 133380.  ,  58500.  , ...,  10282.5 , 108405.  ,\n",
       "       184518.99])"
      ]
     },
     "execution_count": 81,
     "metadata": {},
     "output_type": "execute_result"
    }
   ],
   "source": [
    "credit_card_balance[credit_card_balance['AMT_INST_MIN_REGULARITY'].isnull()]['AMT_DRAWINGS_CURRENT'].unique()"
   ]
  },
  {
   "cell_type": "code",
   "execution_count": 82,
   "metadata": {
    "collapsed": false
   },
   "outputs": [
    {
     "data": {
      "text/plain": [
       "1267584"
      ]
     },
     "execution_count": 82,
     "metadata": {},
     "output_type": "execute_result"
    }
   ],
   "source": [
    "len(credit_card_balance[credit_card_balance['AMT_INST_MIN_REGULARITY'] == credit_card_balance['AMT_PAYMENT_CURRENT']])"
   ]
  },
  {
   "cell_type": "code",
   "execution_count": 83,
   "metadata": {
    "collapsed": true
   },
   "outputs": [],
   "source": [
    "credit_card_balance['AMT_INST_MIN_REGULARITY'] = credit_card_balance['AMT_INST_MIN_REGULARITY'].fillna(credit_card_balance['AMT_PAYMENT_CURRENT'])"
   ]
  },
  {
   "cell_type": "code",
   "execution_count": 84,
   "metadata": {
    "collapsed": true
   },
   "outputs": [],
   "source": [
    "credit_card_balance['CNT_INSTALMENT_MATURE_CUM'] = credit_card_balance['CNT_INSTALMENT_MATURE_CUM'].fillna(0)"
   ]
  },
  {
   "cell_type": "code",
   "execution_count": 85,
   "metadata": {
    "collapsed": false
   },
   "outputs": [
    {
     "data": {
      "text/html": [
       "<div>\n",
       "<style scoped>\n",
       "    .dataframe tbody tr th:only-of-type {\n",
       "        vertical-align: middle;\n",
       "    }\n",
       "\n",
       "    .dataframe tbody tr th {\n",
       "        vertical-align: top;\n",
       "    }\n",
       "\n",
       "    .dataframe thead th {\n",
       "        text-align: right;\n",
       "    }\n",
       "</style>\n",
       "<table border=\"1\" class=\"dataframe\">\n",
       "  <thead>\n",
       "    <tr style=\"text-align: right;\">\n",
       "      <th></th>\n",
       "      <th>SK_ID_PREV</th>\n",
       "      <th>SK_ID_CURR</th>\n",
       "      <th>MONTHS_BALANCE</th>\n",
       "      <th>AMT_BALANCE</th>\n",
       "      <th>AMT_CREDIT_LIMIT_ACTUAL</th>\n",
       "      <th>AMT_DRAWINGS_ATM_CURRENT</th>\n",
       "      <th>AMT_DRAWINGS_CURRENT</th>\n",
       "      <th>AMT_DRAWINGS_OTHER_CURRENT</th>\n",
       "      <th>AMT_DRAWINGS_POS_CURRENT</th>\n",
       "      <th>AMT_INST_MIN_REGULARITY</th>\n",
       "      <th>AMT_PAYMENT_CURRENT</th>\n",
       "      <th>AMT_PAYMENT_TOTAL_CURRENT</th>\n",
       "      <th>AMT_RECEIVABLE_PRINCIPAL</th>\n",
       "      <th>AMT_RECIVABLE</th>\n",
       "      <th>AMT_TOTAL_RECEIVABLE</th>\n",
       "      <th>CNT_DRAWINGS_ATM_CURRENT</th>\n",
       "      <th>CNT_DRAWINGS_CURRENT</th>\n",
       "      <th>CNT_DRAWINGS_OTHER_CURRENT</th>\n",
       "      <th>CNT_DRAWINGS_POS_CURRENT</th>\n",
       "      <th>CNT_INSTALMENT_MATURE_CUM</th>\n",
       "      <th>NAME_CONTRACT_STATUS</th>\n",
       "      <th>SK_DPD</th>\n",
       "      <th>SK_DPD_DEF</th>\n",
       "    </tr>\n",
       "  </thead>\n",
       "  <tbody>\n",
       "    <tr>\n",
       "      <th>438776</th>\n",
       "      <td>2321147</td>\n",
       "      <td>198229</td>\n",
       "      <td>-64</td>\n",
       "      <td>0.0</td>\n",
       "      <td>112500</td>\n",
       "      <td>0.0</td>\n",
       "      <td>-1687.50</td>\n",
       "      <td>0.0</td>\n",
       "      <td>0.0</td>\n",
       "      <td>0.00</td>\n",
       "      <td>220.770</td>\n",
       "      <td>0.0</td>\n",
       "      <td>0.0</td>\n",
       "      <td>0.0</td>\n",
       "      <td>0.0</td>\n",
       "      <td>0.0</td>\n",
       "      <td>0</td>\n",
       "      <td>0.0</td>\n",
       "      <td>0.0</td>\n",
       "      <td>38.0</td>\n",
       "      <td>Active</td>\n",
       "      <td>0</td>\n",
       "      <td>0</td>\n",
       "    </tr>\n",
       "    <tr>\n",
       "      <th>747302</th>\n",
       "      <td>2340075</td>\n",
       "      <td>114867</td>\n",
       "      <td>-73</td>\n",
       "      <td>1718.1</td>\n",
       "      <td>180000</td>\n",
       "      <td>0.0</td>\n",
       "      <td>-519.57</td>\n",
       "      <td>0.0</td>\n",
       "      <td>0.0</td>\n",
       "      <td>9000.00</td>\n",
       "      <td>182340.000</td>\n",
       "      <td>182340.0</td>\n",
       "      <td>0.0</td>\n",
       "      <td>0.0</td>\n",
       "      <td>0.0</td>\n",
       "      <td>0.0</td>\n",
       "      <td>0</td>\n",
       "      <td>0.0</td>\n",
       "      <td>0.0</td>\n",
       "      <td>18.0</td>\n",
       "      <td>Active</td>\n",
       "      <td>0</td>\n",
       "      <td>0</td>\n",
       "    </tr>\n",
       "    <tr>\n",
       "      <th>3284667</th>\n",
       "      <td>2592574</td>\n",
       "      <td>217360</td>\n",
       "      <td>-96</td>\n",
       "      <td>0.0</td>\n",
       "      <td>270000</td>\n",
       "      <td>0.0</td>\n",
       "      <td>-6211.62</td>\n",
       "      <td>0.0</td>\n",
       "      <td>0.0</td>\n",
       "      <td>192.33</td>\n",
       "      <td>14672.205</td>\n",
       "      <td>0.0</td>\n",
       "      <td>0.0</td>\n",
       "      <td>0.0</td>\n",
       "      <td>0.0</td>\n",
       "      <td>0.0</td>\n",
       "      <td>0</td>\n",
       "      <td>0.0</td>\n",
       "      <td>0.0</td>\n",
       "      <td>7.0</td>\n",
       "      <td>Active</td>\n",
       "      <td>0</td>\n",
       "      <td>0</td>\n",
       "    </tr>\n",
       "  </tbody>\n",
       "</table>\n",
       "</div>"
      ],
      "text/plain": [
       "         SK_ID_PREV  SK_ID_CURR  MONTHS_BALANCE  AMT_BALANCE  \\\n",
       "438776      2321147      198229             -64          0.0   \n",
       "747302      2340075      114867             -73       1718.1   \n",
       "3284667     2592574      217360             -96          0.0   \n",
       "\n",
       "         AMT_CREDIT_LIMIT_ACTUAL  AMT_DRAWINGS_ATM_CURRENT  \\\n",
       "438776                    112500                       0.0   \n",
       "747302                    180000                       0.0   \n",
       "3284667                   270000                       0.0   \n",
       "\n",
       "         AMT_DRAWINGS_CURRENT  AMT_DRAWINGS_OTHER_CURRENT  \\\n",
       "438776               -1687.50                         0.0   \n",
       "747302                -519.57                         0.0   \n",
       "3284667              -6211.62                         0.0   \n",
       "\n",
       "         AMT_DRAWINGS_POS_CURRENT  AMT_INST_MIN_REGULARITY  \\\n",
       "438776                        0.0                     0.00   \n",
       "747302                        0.0                  9000.00   \n",
       "3284667                       0.0                   192.33   \n",
       "\n",
       "         AMT_PAYMENT_CURRENT  AMT_PAYMENT_TOTAL_CURRENT  \\\n",
       "438776               220.770                        0.0   \n",
       "747302            182340.000                   182340.0   \n",
       "3284667            14672.205                        0.0   \n",
       "\n",
       "         AMT_RECEIVABLE_PRINCIPAL  AMT_RECIVABLE  AMT_TOTAL_RECEIVABLE  \\\n",
       "438776                        0.0            0.0                   0.0   \n",
       "747302                        0.0            0.0                   0.0   \n",
       "3284667                       0.0            0.0                   0.0   \n",
       "\n",
       "         CNT_DRAWINGS_ATM_CURRENT  CNT_DRAWINGS_CURRENT  \\\n",
       "438776                        0.0                     0   \n",
       "747302                        0.0                     0   \n",
       "3284667                       0.0                     0   \n",
       "\n",
       "         CNT_DRAWINGS_OTHER_CURRENT  CNT_DRAWINGS_POS_CURRENT  \\\n",
       "438776                          0.0                       0.0   \n",
       "747302                          0.0                       0.0   \n",
       "3284667                         0.0                       0.0   \n",
       "\n",
       "         CNT_INSTALMENT_MATURE_CUM NAME_CONTRACT_STATUS  SK_DPD  SK_DPD_DEF  \n",
       "438776                        38.0               Active       0           0  \n",
       "747302                        18.0               Active       0           0  \n",
       "3284667                        7.0               Active       0           0  "
      ]
     },
     "execution_count": 85,
     "metadata": {},
     "output_type": "execute_result"
    }
   ],
   "source": [
    "credit_card_balance[(credit_card_balance['AMT_DRAWINGS_ATM_CURRENT'] > credit_card_balance['AMT_DRAWINGS_CURRENT'])]"
   ]
  },
  {
   "cell_type": "code",
   "execution_count": 86,
   "metadata": {
    "collapsed": false
   },
   "outputs": [
    {
     "name": "stdout",
     "output_type": "stream",
     "text": [
      "no of columns label encoded : 0\n",
      "no of columns one hot encoded encoded : 1\n"
     ]
    }
   ],
   "source": [
    "#Take status count\n",
    "credit_card_status_count = credit_card_balance[['SK_ID_CURR','NAME_CONTRACT_STATUS']]\n",
    "credit_card_status_count = credit_card_status_count.rename(columns={'NAME_CONTRACT_STATUS':'TOTAL_STATUS'})\n",
    "credit_card_status_count = encoding_cat_vars(credit_card_status_count,le)\n",
    "credit_card_status_count = credit_card_status_count.groupby(['SK_ID_CURR']).sum().reset_index()"
   ]
  },
  {
   "cell_type": "code",
   "execution_count": 87,
   "metadata": {
    "collapsed": false
   },
   "outputs": [
    {
     "data": {
      "text/html": [
       "<div>\n",
       "<style scoped>\n",
       "    .dataframe tbody tr th:only-of-type {\n",
       "        vertical-align: middle;\n",
       "    }\n",
       "\n",
       "    .dataframe tbody tr th {\n",
       "        vertical-align: top;\n",
       "    }\n",
       "\n",
       "    .dataframe thead th {\n",
       "        text-align: right;\n",
       "    }\n",
       "</style>\n",
       "<table border=\"1\" class=\"dataframe\">\n",
       "  <thead>\n",
       "    <tr style=\"text-align: right;\">\n",
       "      <th></th>\n",
       "      <th>SK_ID_CURR</th>\n",
       "      <th>TOTAL_STATUS_Active</th>\n",
       "      <th>TOTAL_STATUS_Approved</th>\n",
       "      <th>TOTAL_STATUS_Completed</th>\n",
       "      <th>TOTAL_STATUS_Demand</th>\n",
       "      <th>TOTAL_STATUS_Refused</th>\n",
       "      <th>TOTAL_STATUS_Sent proposal</th>\n",
       "      <th>TOTAL_STATUS_Signed</th>\n",
       "    </tr>\n",
       "  </thead>\n",
       "  <tbody>\n",
       "    <tr>\n",
       "      <th>0</th>\n",
       "      <td>100006</td>\n",
       "      <td>6</td>\n",
       "      <td>0</td>\n",
       "      <td>0</td>\n",
       "      <td>0</td>\n",
       "      <td>0</td>\n",
       "      <td>0</td>\n",
       "      <td>0</td>\n",
       "    </tr>\n",
       "    <tr>\n",
       "      <th>1</th>\n",
       "      <td>100011</td>\n",
       "      <td>74</td>\n",
       "      <td>0</td>\n",
       "      <td>0</td>\n",
       "      <td>0</td>\n",
       "      <td>0</td>\n",
       "      <td>0</td>\n",
       "      <td>0</td>\n",
       "    </tr>\n",
       "    <tr>\n",
       "      <th>2</th>\n",
       "      <td>100013</td>\n",
       "      <td>96</td>\n",
       "      <td>0</td>\n",
       "      <td>0</td>\n",
       "      <td>0</td>\n",
       "      <td>0</td>\n",
       "      <td>0</td>\n",
       "      <td>0</td>\n",
       "    </tr>\n",
       "    <tr>\n",
       "      <th>3</th>\n",
       "      <td>100021</td>\n",
       "      <td>7</td>\n",
       "      <td>0</td>\n",
       "      <td>10</td>\n",
       "      <td>0</td>\n",
       "      <td>0</td>\n",
       "      <td>0</td>\n",
       "      <td>0</td>\n",
       "    </tr>\n",
       "    <tr>\n",
       "      <th>4</th>\n",
       "      <td>100023</td>\n",
       "      <td>8</td>\n",
       "      <td>0</td>\n",
       "      <td>0</td>\n",
       "      <td>0</td>\n",
       "      <td>0</td>\n",
       "      <td>0</td>\n",
       "      <td>0</td>\n",
       "    </tr>\n",
       "  </tbody>\n",
       "</table>\n",
       "</div>"
      ],
      "text/plain": [
       "   SK_ID_CURR  TOTAL_STATUS_Active  TOTAL_STATUS_Approved  \\\n",
       "0      100006                    6                      0   \n",
       "1      100011                   74                      0   \n",
       "2      100013                   96                      0   \n",
       "3      100021                    7                      0   \n",
       "4      100023                    8                      0   \n",
       "\n",
       "   TOTAL_STATUS_Completed  TOTAL_STATUS_Demand  TOTAL_STATUS_Refused  \\\n",
       "0                       0                    0                     0   \n",
       "1                       0                    0                     0   \n",
       "2                       0                    0                     0   \n",
       "3                      10                    0                     0   \n",
       "4                       0                    0                     0   \n",
       "\n",
       "   TOTAL_STATUS_Sent proposal  TOTAL_STATUS_Signed  \n",
       "0                           0                    0  \n",
       "1                           0                    0  \n",
       "2                           0                    0  \n",
       "3                           0                    0  \n",
       "4                           0                    0  "
      ]
     },
     "execution_count": 87,
     "metadata": {},
     "output_type": "execute_result"
    }
   ],
   "source": [
    "credit_card_status_count.head()"
   ]
  },
  {
   "cell_type": "code",
   "execution_count": 88,
   "metadata": {
    "collapsed": true
   },
   "outputs": [],
   "source": [
    "#Fetch latest record\n",
    "credit_card_month = credit_card_balance[['SK_ID_CURR','MONTHS_BALANCE']]\n",
    "credit_card_latest = credit_card_balance[['SK_ID_CURR','MONTHS_BALANCE','AMT_BALANCE',\n",
    "                                          'AMT_CREDIT_LIMIT_ACTUAL','AMT_DRAWINGS_ATM_CURRENT','AMT_DRAWINGS_OTHER_CURRENT',\n",
    "                                          'AMT_DRAWINGS_POS_CURRENT','AMT_PAYMENT_CURRENT',\n",
    "                                         'CNT_DRAWINGS_ATM_CURRENT','CNT_DRAWINGS_CURRENT','CNT_DRAWINGS_OTHER_CURRENT',\n",
    "                                         'CNT_INSTALMENT_MATURE_CUM','SK_DPD','SK_DPD_DEF']]\n",
    "credit_card_month = credit_card_month.groupby(['SK_ID_CURR']).max().reset_index()\n",
    "credit_card_latest = pd.merge(credit_card_month,credit_card_latest,on=['SK_ID_CURR','MONTHS_BALANCE'],how='inner')"
   ]
  },
  {
   "cell_type": "code",
   "execution_count": 89,
   "metadata": {
    "collapsed": true
   },
   "outputs": [],
   "source": [
    "credit_card_latest = credit_card_latest.add_prefix('LATEST_').rename(columns={'LATEST_SK_ID_CURR':'SK_ID_CURR'})"
   ]
  },
  {
   "cell_type": "code",
   "execution_count": 90,
   "metadata": {
    "collapsed": false
   },
   "outputs": [
    {
     "data": {
      "text/html": [
       "<div>\n",
       "<style scoped>\n",
       "    .dataframe tbody tr th:only-of-type {\n",
       "        vertical-align: middle;\n",
       "    }\n",
       "\n",
       "    .dataframe tbody tr th {\n",
       "        vertical-align: top;\n",
       "    }\n",
       "\n",
       "    .dataframe thead th {\n",
       "        text-align: right;\n",
       "    }\n",
       "</style>\n",
       "<table border=\"1\" class=\"dataframe\">\n",
       "  <thead>\n",
       "    <tr style=\"text-align: right;\">\n",
       "      <th></th>\n",
       "      <th>SK_ID_CURR</th>\n",
       "      <th>LATEST_MONTHS_BALANCE</th>\n",
       "      <th>LATEST_AMT_BALANCE</th>\n",
       "      <th>LATEST_AMT_CREDIT_LIMIT_ACTUAL</th>\n",
       "      <th>LATEST_AMT_DRAWINGS_ATM_CURRENT</th>\n",
       "      <th>LATEST_AMT_DRAWINGS_OTHER_CURRENT</th>\n",
       "      <th>LATEST_AMT_DRAWINGS_POS_CURRENT</th>\n",
       "      <th>LATEST_AMT_PAYMENT_CURRENT</th>\n",
       "      <th>LATEST_CNT_DRAWINGS_ATM_CURRENT</th>\n",
       "      <th>LATEST_CNT_DRAWINGS_CURRENT</th>\n",
       "      <th>LATEST_CNT_DRAWINGS_OTHER_CURRENT</th>\n",
       "      <th>LATEST_CNT_INSTALMENT_MATURE_CUM</th>\n",
       "      <th>LATEST_SK_DPD</th>\n",
       "      <th>LATEST_SK_DPD_DEF</th>\n",
       "    </tr>\n",
       "  </thead>\n",
       "  <tbody>\n",
       "    <tr>\n",
       "      <th>0</th>\n",
       "      <td>100006</td>\n",
       "      <td>-1</td>\n",
       "      <td>0.0</td>\n",
       "      <td>270000</td>\n",
       "      <td>0.0</td>\n",
       "      <td>0.0</td>\n",
       "      <td>0.0</td>\n",
       "      <td>0.000</td>\n",
       "      <td>0.0</td>\n",
       "      <td>0</td>\n",
       "      <td>0.0</td>\n",
       "      <td>0.0</td>\n",
       "      <td>0</td>\n",
       "      <td>0</td>\n",
       "    </tr>\n",
       "    <tr>\n",
       "      <th>1</th>\n",
       "      <td>100011</td>\n",
       "      <td>-2</td>\n",
       "      <td>0.0</td>\n",
       "      <td>90000</td>\n",
       "      <td>0.0</td>\n",
       "      <td>0.0</td>\n",
       "      <td>0.0</td>\n",
       "      <td>563.355</td>\n",
       "      <td>0.0</td>\n",
       "      <td>0</td>\n",
       "      <td>0.0</td>\n",
       "      <td>33.0</td>\n",
       "      <td>0</td>\n",
       "      <td>0</td>\n",
       "    </tr>\n",
       "    <tr>\n",
       "      <th>2</th>\n",
       "      <td>100013</td>\n",
       "      <td>-1</td>\n",
       "      <td>0.0</td>\n",
       "      <td>45000</td>\n",
       "      <td>0.0</td>\n",
       "      <td>0.0</td>\n",
       "      <td>0.0</td>\n",
       "      <td>274.320</td>\n",
       "      <td>0.0</td>\n",
       "      <td>0</td>\n",
       "      <td>0.0</td>\n",
       "      <td>22.0</td>\n",
       "      <td>0</td>\n",
       "      <td>0</td>\n",
       "    </tr>\n",
       "    <tr>\n",
       "      <th>3</th>\n",
       "      <td>100021</td>\n",
       "      <td>-2</td>\n",
       "      <td>0.0</td>\n",
       "      <td>675000</td>\n",
       "      <td>0.0</td>\n",
       "      <td>0.0</td>\n",
       "      <td>0.0</td>\n",
       "      <td>0.000</td>\n",
       "      <td>0.0</td>\n",
       "      <td>0</td>\n",
       "      <td>0.0</td>\n",
       "      <td>0.0</td>\n",
       "      <td>0</td>\n",
       "      <td>0</td>\n",
       "    </tr>\n",
       "    <tr>\n",
       "      <th>4</th>\n",
       "      <td>100023</td>\n",
       "      <td>-4</td>\n",
       "      <td>0.0</td>\n",
       "      <td>225000</td>\n",
       "      <td>0.0</td>\n",
       "      <td>0.0</td>\n",
       "      <td>0.0</td>\n",
       "      <td>0.000</td>\n",
       "      <td>0.0</td>\n",
       "      <td>0</td>\n",
       "      <td>0.0</td>\n",
       "      <td>0.0</td>\n",
       "      <td>0</td>\n",
       "      <td>0</td>\n",
       "    </tr>\n",
       "  </tbody>\n",
       "</table>\n",
       "</div>"
      ],
      "text/plain": [
       "   SK_ID_CURR  LATEST_MONTHS_BALANCE  LATEST_AMT_BALANCE  \\\n",
       "0      100006                     -1                 0.0   \n",
       "1      100011                     -2                 0.0   \n",
       "2      100013                     -1                 0.0   \n",
       "3      100021                     -2                 0.0   \n",
       "4      100023                     -4                 0.0   \n",
       "\n",
       "   LATEST_AMT_CREDIT_LIMIT_ACTUAL  LATEST_AMT_DRAWINGS_ATM_CURRENT  \\\n",
       "0                          270000                              0.0   \n",
       "1                           90000                              0.0   \n",
       "2                           45000                              0.0   \n",
       "3                          675000                              0.0   \n",
       "4                          225000                              0.0   \n",
       "\n",
       "   LATEST_AMT_DRAWINGS_OTHER_CURRENT  LATEST_AMT_DRAWINGS_POS_CURRENT  \\\n",
       "0                                0.0                              0.0   \n",
       "1                                0.0                              0.0   \n",
       "2                                0.0                              0.0   \n",
       "3                                0.0                              0.0   \n",
       "4                                0.0                              0.0   \n",
       "\n",
       "   LATEST_AMT_PAYMENT_CURRENT  LATEST_CNT_DRAWINGS_ATM_CURRENT  \\\n",
       "0                       0.000                              0.0   \n",
       "1                     563.355                              0.0   \n",
       "2                     274.320                              0.0   \n",
       "3                       0.000                              0.0   \n",
       "4                       0.000                              0.0   \n",
       "\n",
       "   LATEST_CNT_DRAWINGS_CURRENT  LATEST_CNT_DRAWINGS_OTHER_CURRENT  \\\n",
       "0                            0                                0.0   \n",
       "1                            0                                0.0   \n",
       "2                            0                                0.0   \n",
       "3                            0                                0.0   \n",
       "4                            0                                0.0   \n",
       "\n",
       "   LATEST_CNT_INSTALMENT_MATURE_CUM  LATEST_SK_DPD  LATEST_SK_DPD_DEF  \n",
       "0                               0.0              0                  0  \n",
       "1                              33.0              0                  0  \n",
       "2                              22.0              0                  0  \n",
       "3                               0.0              0                  0  \n",
       "4                               0.0              0                  0  "
      ]
     },
     "execution_count": 90,
     "metadata": {},
     "output_type": "execute_result"
    }
   ],
   "source": [
    "credit_card_latest.head()"
   ]
  },
  {
   "cell_type": "code",
   "execution_count": 91,
   "metadata": {
    "collapsed": true
   },
   "outputs": [],
   "source": [
    "credit_card_app_count = credit_card_balance[['SK_ID_CURR','SK_ID_PREV']]\n",
    "credit_card_app_count = credit_card_app_count.rename(columns={'SK_ID_PREV':'CNT_CC_PREV_APP'})\n",
    "credit_card_app_count = credit_card_app_count.groupby(['SK_ID_CURR'])['CNT_CC_PREV_APP'].nunique().reset_index()"
   ]
  },
  {
   "cell_type": "code",
   "execution_count": 92,
   "metadata": {
    "collapsed": false
   },
   "outputs": [
    {
     "data": {
      "text/plain": [
       "(103558, 2)"
      ]
     },
     "execution_count": 92,
     "metadata": {},
     "output_type": "execute_result"
    }
   ],
   "source": [
    "credit_card_app_count.shape"
   ]
  },
  {
   "cell_type": "code",
   "execution_count": 93,
   "metadata": {
    "collapsed": false
   },
   "outputs": [
    {
     "data": {
      "text/html": [
       "<div>\n",
       "<style scoped>\n",
       "    .dataframe tbody tr th:only-of-type {\n",
       "        vertical-align: middle;\n",
       "    }\n",
       "\n",
       "    .dataframe tbody tr th {\n",
       "        vertical-align: top;\n",
       "    }\n",
       "\n",
       "    .dataframe thead th {\n",
       "        text-align: right;\n",
       "    }\n",
       "</style>\n",
       "<table border=\"1\" class=\"dataframe\">\n",
       "  <thead>\n",
       "    <tr style=\"text-align: right;\">\n",
       "      <th></th>\n",
       "      <th>SK_ID_CURR</th>\n",
       "      <th>CNT_CC_PREV_APP</th>\n",
       "    </tr>\n",
       "  </thead>\n",
       "  <tbody>\n",
       "    <tr>\n",
       "      <th>0</th>\n",
       "      <td>100006</td>\n",
       "      <td>1</td>\n",
       "    </tr>\n",
       "    <tr>\n",
       "      <th>1</th>\n",
       "      <td>100011</td>\n",
       "      <td>1</td>\n",
       "    </tr>\n",
       "    <tr>\n",
       "      <th>2</th>\n",
       "      <td>100013</td>\n",
       "      <td>1</td>\n",
       "    </tr>\n",
       "    <tr>\n",
       "      <th>3</th>\n",
       "      <td>100021</td>\n",
       "      <td>1</td>\n",
       "    </tr>\n",
       "    <tr>\n",
       "      <th>4</th>\n",
       "      <td>100023</td>\n",
       "      <td>1</td>\n",
       "    </tr>\n",
       "  </tbody>\n",
       "</table>\n",
       "</div>"
      ],
      "text/plain": [
       "   SK_ID_CURR  CNT_CC_PREV_APP\n",
       "0      100006                1\n",
       "1      100011                1\n",
       "2      100013                1\n",
       "3      100021                1\n",
       "4      100023                1"
      ]
     },
     "execution_count": 93,
     "metadata": {},
     "output_type": "execute_result"
    }
   ],
   "source": [
    "credit_card_app_count.head()"
   ]
  },
  {
   "cell_type": "markdown",
   "metadata": {},
   "source": [
    "### Synthesize new features"
   ]
  },
  {
   "cell_type": "code",
   "execution_count": 94,
   "metadata": {
    "collapsed": true
   },
   "outputs": [],
   "source": [
    "credit_card_balance['AMT_DRAWINGS_CURRENT / CNT_DRAWINGS_CURRENT'] =  credit_card_balance['AMT_DRAWINGS_CURRENT'] / (1 + credit_card_balance['CNT_DRAWINGS_CURRENT'])\n",
    "credit_card_balance['AMT_DRAWINGS_ATM_CURRENT / AMT_DRAWINGS_CURRENT'] =  credit_card_balance['AMT_DRAWINGS_ATM_CURRENT'] / (1 + credit_card_balance['AMT_DRAWINGS_CURRENT'])\n",
    "credit_card_balance['CNT_DRAWINGS_ATM_CURRENT / CNT_DRAWINGS_CURRENT'] =  credit_card_balance['CNT_DRAWINGS_ATM_CURRENT'] / (1 + credit_card_balance['CNT_DRAWINGS_CURRENT'])\n",
    "credit_card_balance['AMT_INST_MIN_REGULARITY / AMT_PAYMENT_TOTAL_CURRENT' ] = credit_card_balance['AMT_INST_MIN_REGULARITY'] / (1 + credit_card_balance['AMT_PAYMENT_TOTAL_CURRENT'])\n",
    "credit_card_balance['AMT_DRAWINGS_CURRENT / AMT_CREDIT_LIMIT_ACTUAL' ] =  credit_card_balance['AMT_DRAWINGS_CURRENT'] / (1 + credit_card_balance['AMT_CREDIT_LIMIT_ACTUAL'])\n",
    "credit_card_balance['AMT_BALANCE / AMT_CREDIT_LIMIT_ACTUAL' ] =  credit_card_balance['AMT_BALANCE'] / (1 + credit_card_balance['AMT_CREDIT_LIMIT_ACTUAL'])"
   ]
  },
  {
   "cell_type": "markdown",
   "metadata": {},
   "source": [
    "### FInd default rate of each statuses!!"
   ]
  },
  {
   "cell_type": "code",
   "execution_count": 95,
   "metadata": {
    "collapsed": true
   },
   "outputs": [],
   "source": [
    "app_train = pd.read_csv('application_train.csv')[['SK_ID_CURR','TARGET']]"
   ]
  },
  {
   "cell_type": "code",
   "execution_count": 96,
   "metadata": {
    "collapsed": true
   },
   "outputs": [],
   "source": [
    "credit_card_statusrate = pd.merge(credit_card_balance[['SK_ID_CURR','NAME_CONTRACT_STATUS']],app_train,on=['SK_ID_CURR'],how='left')"
   ]
  },
  {
   "cell_type": "code",
   "execution_count": 97,
   "metadata": {
    "collapsed": true
   },
   "outputs": [],
   "source": [
    "cc_rate = credit_card_statusrate.groupby(['NAME_CONTRACT_STATUS','TARGET'])[['SK_ID_CURR']].count().reset_index()\n",
    "cc_rate = cc_rate.pivot(index='NAME_CONTRACT_STATUS', columns='TARGET', values='SK_ID_CURR').reset_index()\n",
    "cc_rate = cc_rate.rename(columns={0:'CC_STATUS_CORRECT',1:'CC_STATUS_DEFAULT'})"
   ]
  },
  {
   "cell_type": "code",
   "execution_count": 98,
   "metadata": {
    "collapsed": false
   },
   "outputs": [
    {
     "data": {
      "text/html": [
       "<div>\n",
       "<style scoped>\n",
       "    .dataframe tbody tr th:only-of-type {\n",
       "        vertical-align: middle;\n",
       "    }\n",
       "\n",
       "    .dataframe tbody tr th {\n",
       "        vertical-align: top;\n",
       "    }\n",
       "\n",
       "    .dataframe thead th {\n",
       "        text-align: right;\n",
       "    }\n",
       "</style>\n",
       "<table border=\"1\" class=\"dataframe\">\n",
       "  <thead>\n",
       "    <tr style=\"text-align: right;\">\n",
       "      <th>TARGET</th>\n",
       "      <th>NAME_CONTRACT_STATUS</th>\n",
       "      <th>CC_STATUS_CORRECT</th>\n",
       "      <th>CC_STATUS_DEFAULT</th>\n",
       "    </tr>\n",
       "  </thead>\n",
       "  <tbody>\n",
       "    <tr>\n",
       "      <th>0</th>\n",
       "      <td>Active</td>\n",
       "      <td>2893941.0</td>\n",
       "      <td>222732.0</td>\n",
       "    </tr>\n",
       "    <tr>\n",
       "      <th>1</th>\n",
       "      <td>Approved</td>\n",
       "      <td>5.0</td>\n",
       "      <td>0.0</td>\n",
       "    </tr>\n",
       "    <tr>\n",
       "      <th>2</th>\n",
       "      <td>Completed</td>\n",
       "      <td>93611.0</td>\n",
       "      <td>6420.0</td>\n",
       "    </tr>\n",
       "    <tr>\n",
       "      <th>3</th>\n",
       "      <td>Demand</td>\n",
       "      <td>675.0</td>\n",
       "      <td>168.0</td>\n",
       "    </tr>\n",
       "    <tr>\n",
       "      <th>4</th>\n",
       "      <td>Refused</td>\n",
       "      <td>12.0</td>\n",
       "      <td>2.0</td>\n",
       "    </tr>\n",
       "    <tr>\n",
       "      <th>5</th>\n",
       "      <td>Sent proposal</td>\n",
       "      <td>442.0</td>\n",
       "      <td>18.0</td>\n",
       "    </tr>\n",
       "    <tr>\n",
       "      <th>6</th>\n",
       "      <td>Signed</td>\n",
       "      <td>9278.0</td>\n",
       "      <td>661.0</td>\n",
       "    </tr>\n",
       "  </tbody>\n",
       "</table>\n",
       "</div>"
      ],
      "text/plain": [
       "TARGET NAME_CONTRACT_STATUS  CC_STATUS_CORRECT  CC_STATUS_DEFAULT\n",
       "0                    Active          2893941.0           222732.0\n",
       "1                  Approved                5.0                0.0\n",
       "2                 Completed            93611.0             6420.0\n",
       "3                    Demand              675.0              168.0\n",
       "4                   Refused               12.0                2.0\n",
       "5             Sent proposal              442.0               18.0\n",
       "6                    Signed             9278.0              661.0"
      ]
     },
     "execution_count": 98,
     "metadata": {},
     "output_type": "execute_result"
    }
   ],
   "source": [
    "cc_rate = cc_rate.fillna(0)\n",
    "cc_rate"
   ]
  },
  {
   "cell_type": "code",
   "execution_count": 99,
   "metadata": {
    "collapsed": true
   },
   "outputs": [],
   "source": [
    "credit_card_statusrate = pd.merge(credit_card_statusrate,cc_rate,on=['NAME_CONTRACT_STATUS'],how='left')\n",
    "credit_card_statusrate['DEFAULT_RATE_CC_STATUS'] = credit_card_statusrate['CC_STATUS_DEFAULT']/credit_card_statusrate['CC_STATUS_CORRECT']\n",
    "credit_card_statusrate = credit_card_statusrate.drop(columns=['CC_STATUS_DEFAULT','CC_STATUS_CORRECT'])"
   ]
  },
  {
   "cell_type": "code",
   "execution_count": 100,
   "metadata": {
    "collapsed": true
   },
   "outputs": [],
   "source": [
    "credit_card_statusrate = credit_card_statusrate.drop(columns=['TARGET'])"
   ]
  },
  {
   "cell_type": "code",
   "execution_count": 101,
   "metadata": {
    "collapsed": true
   },
   "outputs": [],
   "source": [
    "credit_card_statusrate = credit_card_statusrate.drop(columns=['NAME_CONTRACT_STATUS'])"
   ]
  },
  {
   "cell_type": "code",
   "execution_count": 102,
   "metadata": {
    "collapsed": true
   },
   "outputs": [],
   "source": [
    "credit_card_statusrate = credit_card_statusrate.groupby(['SK_ID_CURR']).mean().reset_index()"
   ]
  },
  {
   "cell_type": "code",
   "execution_count": 103,
   "metadata": {
    "collapsed": false,
    "scrolled": true
   },
   "outputs": [
    {
     "data": {
      "text/html": [
       "<div>\n",
       "<style scoped>\n",
       "    .dataframe tbody tr th:only-of-type {\n",
       "        vertical-align: middle;\n",
       "    }\n",
       "\n",
       "    .dataframe tbody tr th {\n",
       "        vertical-align: top;\n",
       "    }\n",
       "\n",
       "    .dataframe thead th {\n",
       "        text-align: right;\n",
       "    }\n",
       "</style>\n",
       "<table border=\"1\" class=\"dataframe\">\n",
       "  <thead>\n",
       "    <tr style=\"text-align: right;\">\n",
       "      <th></th>\n",
       "      <th>SK_ID_CURR</th>\n",
       "      <th>DEFAULT_RATE_CC_STATUS</th>\n",
       "    </tr>\n",
       "  </thead>\n",
       "  <tbody>\n",
       "    <tr>\n",
       "      <th>0</th>\n",
       "      <td>100006</td>\n",
       "      <td>0.076965</td>\n",
       "    </tr>\n",
       "    <tr>\n",
       "      <th>1</th>\n",
       "      <td>100011</td>\n",
       "      <td>0.076965</td>\n",
       "    </tr>\n",
       "    <tr>\n",
       "      <th>2</th>\n",
       "      <td>100013</td>\n",
       "      <td>0.076965</td>\n",
       "    </tr>\n",
       "    <tr>\n",
       "      <th>3</th>\n",
       "      <td>100021</td>\n",
       "      <td>0.072034</td>\n",
       "    </tr>\n",
       "    <tr>\n",
       "      <th>4</th>\n",
       "      <td>100023</td>\n",
       "      <td>0.076965</td>\n",
       "    </tr>\n",
       "  </tbody>\n",
       "</table>\n",
       "</div>"
      ],
      "text/plain": [
       "   SK_ID_CURR  DEFAULT_RATE_CC_STATUS\n",
       "0      100006                0.076965\n",
       "1      100011                0.076965\n",
       "2      100013                0.076965\n",
       "3      100021                0.072034\n",
       "4      100023                0.076965"
      ]
     },
     "execution_count": 103,
     "metadata": {},
     "output_type": "execute_result"
    }
   ],
   "source": [
    "credit_card_statusrate.head()"
   ]
  },
  {
   "cell_type": "code",
   "execution_count": 104,
   "metadata": {
    "collapsed": true
   },
   "outputs": [],
   "source": [
    "credit_card_stat = credit_card_balance[['SK_ID_CURR','SK_ID_PREV','NAME_CONTRACT_STATUS','SK_DPD','SK_DPD_DEF']]"
   ]
  },
  {
   "cell_type": "code",
   "execution_count": 105,
   "metadata": {
    "collapsed": true
   },
   "outputs": [],
   "source": [
    "credit_card_stat_dpd = credit_card_stat.groupby(['SK_ID_CURR','SK_ID_PREV'])[['SK_DPD','SK_DPD_DEF']].max().reset_index()"
   ]
  },
  {
   "cell_type": "code",
   "execution_count": 40,
   "metadata": {
    "collapsed": true
   },
   "outputs": [],
   "source": [
    "credit_card_stat_dpd = credit_card_stat_dpd.drop(columns=['SK_ID_PREV'])"
   ]
  },
  {
   "cell_type": "code",
   "execution_count": 41,
   "metadata": {
    "collapsed": true
   },
   "outputs": [
    {
     "data": {
      "text/html": [
       "<div>\n",
       "<style scoped>\n",
       "    .dataframe tbody tr th:only-of-type {\n",
       "        vertical-align: middle;\n",
       "    }\n",
       "\n",
       "    .dataframe tbody tr th {\n",
       "        vertical-align: top;\n",
       "    }\n",
       "\n",
       "    .dataframe thead th {\n",
       "        text-align: right;\n",
       "    }\n",
       "</style>\n",
       "<table border=\"1\" class=\"dataframe\">\n",
       "  <thead>\n",
       "    <tr style=\"text-align: right;\">\n",
       "      <th></th>\n",
       "      <th>SK_ID_CURR</th>\n",
       "      <th>SK_DPD</th>\n",
       "      <th>SK_DPD_DEF</th>\n",
       "    </tr>\n",
       "  </thead>\n",
       "  <tbody>\n",
       "    <tr>\n",
       "      <th>0</th>\n",
       "      <td>100006</td>\n",
       "      <td>0</td>\n",
       "      <td>0</td>\n",
       "    </tr>\n",
       "    <tr>\n",
       "      <th>1</th>\n",
       "      <td>100011</td>\n",
       "      <td>0</td>\n",
       "      <td>0</td>\n",
       "    </tr>\n",
       "    <tr>\n",
       "      <th>2</th>\n",
       "      <td>100013</td>\n",
       "      <td>1</td>\n",
       "      <td>1</td>\n",
       "    </tr>\n",
       "    <tr>\n",
       "      <th>3</th>\n",
       "      <td>100021</td>\n",
       "      <td>0</td>\n",
       "      <td>0</td>\n",
       "    </tr>\n",
       "    <tr>\n",
       "      <th>4</th>\n",
       "      <td>100023</td>\n",
       "      <td>0</td>\n",
       "      <td>0</td>\n",
       "    </tr>\n",
       "  </tbody>\n",
       "</table>\n",
       "</div>"
      ],
      "text/plain": [
       "   SK_ID_CURR  SK_DPD  SK_DPD_DEF\n",
       "0      100006       0           0\n",
       "1      100011       0           0\n",
       "2      100013       1           1\n",
       "3      100021       0           0\n",
       "4      100023       0           0"
      ]
     },
     "execution_count": 41,
     "metadata": {},
     "output_type": "execute_result"
    }
   ],
   "source": [
    "credit_card_stat_dpd.head()"
   ]
  },
  {
   "cell_type": "code",
   "execution_count": 42,
   "metadata": {
    "collapsed": true
   },
   "outputs": [],
   "source": [
    "credit_card_stat_dpd = credit_card_stat_dpd.groupby(['SK_ID_CURR']).sum().reset_index()"
   ]
  },
  {
   "cell_type": "code",
   "execution_count": 63,
   "metadata": {
    "collapsed": false
   },
   "outputs": [
    {
     "data": {
      "text/html": [
       "<div>\n",
       "<style scoped>\n",
       "    .dataframe tbody tr th:only-of-type {\n",
       "        vertical-align: middle;\n",
       "    }\n",
       "\n",
       "    .dataframe tbody tr th {\n",
       "        vertical-align: top;\n",
       "    }\n",
       "\n",
       "    .dataframe thead th {\n",
       "        text-align: right;\n",
       "    }\n",
       "</style>\n",
       "<table border=\"1\" class=\"dataframe\">\n",
       "  <thead>\n",
       "    <tr style=\"text-align: right;\">\n",
       "      <th></th>\n",
       "      <th>SK_ID_CURR</th>\n",
       "      <th>SK_DPD</th>\n",
       "      <th>SK_DPD_DEF</th>\n",
       "    </tr>\n",
       "  </thead>\n",
       "  <tbody>\n",
       "    <tr>\n",
       "      <th>0</th>\n",
       "      <td>100006</td>\n",
       "      <td>0</td>\n",
       "      <td>0</td>\n",
       "    </tr>\n",
       "    <tr>\n",
       "      <th>1</th>\n",
       "      <td>100011</td>\n",
       "      <td>0</td>\n",
       "      <td>0</td>\n",
       "    </tr>\n",
       "    <tr>\n",
       "      <th>2</th>\n",
       "      <td>100013</td>\n",
       "      <td>1</td>\n",
       "      <td>1</td>\n",
       "    </tr>\n",
       "    <tr>\n",
       "      <th>3</th>\n",
       "      <td>100021</td>\n",
       "      <td>0</td>\n",
       "      <td>0</td>\n",
       "    </tr>\n",
       "    <tr>\n",
       "      <th>4</th>\n",
       "      <td>100023</td>\n",
       "      <td>0</td>\n",
       "      <td>0</td>\n",
       "    </tr>\n",
       "  </tbody>\n",
       "</table>\n",
       "</div>"
      ],
      "text/plain": [
       "   SK_ID_CURR  SK_DPD  SK_DPD_DEF\n",
       "0      100006       0           0\n",
       "1      100011       0           0\n",
       "2      100013       1           1\n",
       "3      100021       0           0\n",
       "4      100023       0           0"
      ]
     },
     "execution_count": 63,
     "metadata": {},
     "output_type": "execute_result"
    }
   ],
   "source": [
    "credit_card_stat_dpd.head()"
   ]
  },
  {
   "cell_type": "code",
   "execution_count": 45,
   "metadata": {
    "collapsed": false
   },
   "outputs": [
    {
     "name": "stdout",
     "output_type": "stream",
     "text": [
      "no of columns label encoded : 0\n",
      "no of columns one hot encoded encoded : 1\n"
     ]
    }
   ],
   "source": [
    "credit_card_stat = credit_card_stat.groupby(['SK_ID_CURR','SK_ID_PREV'])['NAME_CONTRACT_STATUS'].first().reset_index()\n",
    "credit_card_stat = credit_card_stat.drop(columns=['SK_ID_PREV'])\n",
    "credit_card_stat = encoding_cat_vars(credit_card_stat,le)"
   ]
  },
  {
   "cell_type": "code",
   "execution_count": 46,
   "metadata": {
    "collapsed": false
   },
   "outputs": [
    {
     "data": {
      "text/html": [
       "<div>\n",
       "<style scoped>\n",
       "    .dataframe tbody tr th:only-of-type {\n",
       "        vertical-align: middle;\n",
       "    }\n",
       "\n",
       "    .dataframe tbody tr th {\n",
       "        vertical-align: top;\n",
       "    }\n",
       "\n",
       "    .dataframe thead th {\n",
       "        text-align: right;\n",
       "    }\n",
       "</style>\n",
       "<table border=\"1\" class=\"dataframe\">\n",
       "  <thead>\n",
       "    <tr style=\"text-align: right;\">\n",
       "      <th></th>\n",
       "      <th>SK_ID_CURR</th>\n",
       "      <th>NAME_CONTRACT_STATUS_Active</th>\n",
       "      <th>NAME_CONTRACT_STATUS_Completed</th>\n",
       "      <th>NAME_CONTRACT_STATUS_Demand</th>\n",
       "      <th>NAME_CONTRACT_STATUS_Sent proposal</th>\n",
       "      <th>NAME_CONTRACT_STATUS_Signed</th>\n",
       "    </tr>\n",
       "  </thead>\n",
       "  <tbody>\n",
       "    <tr>\n",
       "      <th>0</th>\n",
       "      <td>100006</td>\n",
       "      <td>1</td>\n",
       "      <td>0</td>\n",
       "      <td>0</td>\n",
       "      <td>0</td>\n",
       "      <td>0</td>\n",
       "    </tr>\n",
       "    <tr>\n",
       "      <th>1</th>\n",
       "      <td>100011</td>\n",
       "      <td>1</td>\n",
       "      <td>0</td>\n",
       "      <td>0</td>\n",
       "      <td>0</td>\n",
       "      <td>0</td>\n",
       "    </tr>\n",
       "    <tr>\n",
       "      <th>2</th>\n",
       "      <td>100013</td>\n",
       "      <td>1</td>\n",
       "      <td>0</td>\n",
       "      <td>0</td>\n",
       "      <td>0</td>\n",
       "      <td>0</td>\n",
       "    </tr>\n",
       "    <tr>\n",
       "      <th>3</th>\n",
       "      <td>100021</td>\n",
       "      <td>0</td>\n",
       "      <td>1</td>\n",
       "      <td>0</td>\n",
       "      <td>0</td>\n",
       "      <td>0</td>\n",
       "    </tr>\n",
       "    <tr>\n",
       "      <th>4</th>\n",
       "      <td>100023</td>\n",
       "      <td>1</td>\n",
       "      <td>0</td>\n",
       "      <td>0</td>\n",
       "      <td>0</td>\n",
       "      <td>0</td>\n",
       "    </tr>\n",
       "  </tbody>\n",
       "</table>\n",
       "</div>"
      ],
      "text/plain": [
       "   SK_ID_CURR  NAME_CONTRACT_STATUS_Active  NAME_CONTRACT_STATUS_Completed  \\\n",
       "0      100006                            1                               0   \n",
       "1      100011                            1                               0   \n",
       "2      100013                            1                               0   \n",
       "3      100021                            0                               1   \n",
       "4      100023                            1                               0   \n",
       "\n",
       "   NAME_CONTRACT_STATUS_Demand  NAME_CONTRACT_STATUS_Sent proposal  \\\n",
       "0                            0                                   0   \n",
       "1                            0                                   0   \n",
       "2                            0                                   0   \n",
       "3                            0                                   0   \n",
       "4                            0                                   0   \n",
       "\n",
       "   NAME_CONTRACT_STATUS_Signed  \n",
       "0                            0  \n",
       "1                            0  \n",
       "2                            0  \n",
       "3                            0  \n",
       "4                            0  "
      ]
     },
     "execution_count": 46,
     "metadata": {},
     "output_type": "execute_result"
    }
   ],
   "source": [
    "credit_card_stat.head()"
   ]
  },
  {
   "cell_type": "code",
   "execution_count": 47,
   "metadata": {
    "collapsed": true
   },
   "outputs": [],
   "source": [
    "credit_card_stat = credit_card_stat.groupby(['SK_ID_CURR']).sum().reset_index()"
   ]
  },
  {
   "cell_type": "code",
   "execution_count": 48,
   "metadata": {
    "collapsed": false
   },
   "outputs": [
    {
     "data": {
      "text/html": [
       "<div>\n",
       "<style scoped>\n",
       "    .dataframe tbody tr th:only-of-type {\n",
       "        vertical-align: middle;\n",
       "    }\n",
       "\n",
       "    .dataframe tbody tr th {\n",
       "        vertical-align: top;\n",
       "    }\n",
       "\n",
       "    .dataframe thead th {\n",
       "        text-align: right;\n",
       "    }\n",
       "</style>\n",
       "<table border=\"1\" class=\"dataframe\">\n",
       "  <thead>\n",
       "    <tr style=\"text-align: right;\">\n",
       "      <th></th>\n",
       "      <th>SK_ID_CURR</th>\n",
       "      <th>NAME_CONTRACT_STATUS_Active</th>\n",
       "      <th>NAME_CONTRACT_STATUS_Completed</th>\n",
       "      <th>NAME_CONTRACT_STATUS_Demand</th>\n",
       "      <th>NAME_CONTRACT_STATUS_Sent proposal</th>\n",
       "      <th>NAME_CONTRACT_STATUS_Signed</th>\n",
       "    </tr>\n",
       "  </thead>\n",
       "  <tbody>\n",
       "    <tr>\n",
       "      <th>0</th>\n",
       "      <td>100006</td>\n",
       "      <td>1</td>\n",
       "      <td>0</td>\n",
       "      <td>0</td>\n",
       "      <td>0</td>\n",
       "      <td>0</td>\n",
       "    </tr>\n",
       "    <tr>\n",
       "      <th>1</th>\n",
       "      <td>100011</td>\n",
       "      <td>1</td>\n",
       "      <td>0</td>\n",
       "      <td>0</td>\n",
       "      <td>0</td>\n",
       "      <td>0</td>\n",
       "    </tr>\n",
       "    <tr>\n",
       "      <th>2</th>\n",
       "      <td>100013</td>\n",
       "      <td>1</td>\n",
       "      <td>0</td>\n",
       "      <td>0</td>\n",
       "      <td>0</td>\n",
       "      <td>0</td>\n",
       "    </tr>\n",
       "    <tr>\n",
       "      <th>3</th>\n",
       "      <td>100021</td>\n",
       "      <td>0</td>\n",
       "      <td>1</td>\n",
       "      <td>0</td>\n",
       "      <td>0</td>\n",
       "      <td>0</td>\n",
       "    </tr>\n",
       "    <tr>\n",
       "      <th>4</th>\n",
       "      <td>100023</td>\n",
       "      <td>1</td>\n",
       "      <td>0</td>\n",
       "      <td>0</td>\n",
       "      <td>0</td>\n",
       "      <td>0</td>\n",
       "    </tr>\n",
       "  </tbody>\n",
       "</table>\n",
       "</div>"
      ],
      "text/plain": [
       "   SK_ID_CURR  NAME_CONTRACT_STATUS_Active  NAME_CONTRACT_STATUS_Completed  \\\n",
       "0      100006                            1                               0   \n",
       "1      100011                            1                               0   \n",
       "2      100013                            1                               0   \n",
       "3      100021                            0                               1   \n",
       "4      100023                            1                               0   \n",
       "\n",
       "   NAME_CONTRACT_STATUS_Demand  NAME_CONTRACT_STATUS_Sent proposal  \\\n",
       "0                            0                                   0   \n",
       "1                            0                                   0   \n",
       "2                            0                                   0   \n",
       "3                            0                                   0   \n",
       "4                            0                                   0   \n",
       "\n",
       "   NAME_CONTRACT_STATUS_Signed  \n",
       "0                            0  \n",
       "1                            0  \n",
       "2                            0  \n",
       "3                            0  \n",
       "4                            0  "
      ]
     },
     "execution_count": 48,
     "metadata": {},
     "output_type": "execute_result"
    }
   ],
   "source": [
    "credit_card_stat.head()"
   ]
  },
  {
   "cell_type": "code",
   "execution_count": 49,
   "metadata": {
    "collapsed": true
   },
   "outputs": [],
   "source": [
    "credit_card_stat = pd.merge(credit_card_stat,credit_card_stat_dpd,on=['SK_ID_CURR'],how='inner')"
   ]
  },
  {
   "cell_type": "code",
   "execution_count": 51,
   "metadata": {
    "collapsed": false
   },
   "outputs": [
    {
     "data": {
      "text/html": [
       "<div>\n",
       "<style scoped>\n",
       "    .dataframe tbody tr th:only-of-type {\n",
       "        vertical-align: middle;\n",
       "    }\n",
       "\n",
       "    .dataframe tbody tr th {\n",
       "        vertical-align: top;\n",
       "    }\n",
       "\n",
       "    .dataframe thead th {\n",
       "        text-align: right;\n",
       "    }\n",
       "</style>\n",
       "<table border=\"1\" class=\"dataframe\">\n",
       "  <thead>\n",
       "    <tr style=\"text-align: right;\">\n",
       "      <th></th>\n",
       "      <th>SK_ID_CURR</th>\n",
       "      <th>NAME_CONTRACT_STATUS_Active</th>\n",
       "      <th>NAME_CONTRACT_STATUS_Completed</th>\n",
       "      <th>NAME_CONTRACT_STATUS_Demand</th>\n",
       "      <th>NAME_CONTRACT_STATUS_Sent proposal</th>\n",
       "      <th>NAME_CONTRACT_STATUS_Signed</th>\n",
       "      <th>SK_DPD</th>\n",
       "      <th>SK_DPD_DEF</th>\n",
       "    </tr>\n",
       "  </thead>\n",
       "  <tbody>\n",
       "    <tr>\n",
       "      <th>0</th>\n",
       "      <td>100006</td>\n",
       "      <td>1</td>\n",
       "      <td>0</td>\n",
       "      <td>0</td>\n",
       "      <td>0</td>\n",
       "      <td>0</td>\n",
       "      <td>0</td>\n",
       "      <td>0</td>\n",
       "    </tr>\n",
       "    <tr>\n",
       "      <th>1</th>\n",
       "      <td>100011</td>\n",
       "      <td>1</td>\n",
       "      <td>0</td>\n",
       "      <td>0</td>\n",
       "      <td>0</td>\n",
       "      <td>0</td>\n",
       "      <td>0</td>\n",
       "      <td>0</td>\n",
       "    </tr>\n",
       "    <tr>\n",
       "      <th>2</th>\n",
       "      <td>100013</td>\n",
       "      <td>1</td>\n",
       "      <td>0</td>\n",
       "      <td>0</td>\n",
       "      <td>0</td>\n",
       "      <td>0</td>\n",
       "      <td>1</td>\n",
       "      <td>1</td>\n",
       "    </tr>\n",
       "    <tr>\n",
       "      <th>3</th>\n",
       "      <td>100021</td>\n",
       "      <td>0</td>\n",
       "      <td>1</td>\n",
       "      <td>0</td>\n",
       "      <td>0</td>\n",
       "      <td>0</td>\n",
       "      <td>0</td>\n",
       "      <td>0</td>\n",
       "    </tr>\n",
       "    <tr>\n",
       "      <th>4</th>\n",
       "      <td>100023</td>\n",
       "      <td>1</td>\n",
       "      <td>0</td>\n",
       "      <td>0</td>\n",
       "      <td>0</td>\n",
       "      <td>0</td>\n",
       "      <td>0</td>\n",
       "      <td>0</td>\n",
       "    </tr>\n",
       "  </tbody>\n",
       "</table>\n",
       "</div>"
      ],
      "text/plain": [
       "   SK_ID_CURR  NAME_CONTRACT_STATUS_Active  NAME_CONTRACT_STATUS_Completed  \\\n",
       "0      100006                            1                               0   \n",
       "1      100011                            1                               0   \n",
       "2      100013                            1                               0   \n",
       "3      100021                            0                               1   \n",
       "4      100023                            1                               0   \n",
       "\n",
       "   NAME_CONTRACT_STATUS_Demand  NAME_CONTRACT_STATUS_Sent proposal  \\\n",
       "0                            0                                   0   \n",
       "1                            0                                   0   \n",
       "2                            0                                   0   \n",
       "3                            0                                   0   \n",
       "4                            0                                   0   \n",
       "\n",
       "   NAME_CONTRACT_STATUS_Signed  SK_DPD  SK_DPD_DEF  \n",
       "0                            0       0           0  \n",
       "1                            0       0           0  \n",
       "2                            0       1           1  \n",
       "3                            0       0           0  \n",
       "4                            0       0           0  "
      ]
     },
     "execution_count": 51,
     "metadata": {},
     "output_type": "execute_result"
    }
   ],
   "source": [
    "credit_card_stat.head()"
   ]
  },
  {
   "cell_type": "code",
   "execution_count": 52,
   "metadata": {
    "collapsed": true
   },
   "outputs": [],
   "source": [
    "cc_derived_features = credit_card_balance[['SK_ID_CURR','AMT_DRAWINGS_CURRENT / CNT_DRAWINGS_CURRENT',\n",
    "                                          'AMT_INST_MIN_REGULARITY / AMT_PAYMENT_TOTAL_CURRENT',\n",
    "                                          'AMT_DRAWINGS_CURRENT / AMT_CREDIT_LIMIT_ACTUAL',\n",
    "                                          'AMT_BALANCE / AMT_CREDIT_LIMIT_ACTUAL','AMT_DRAWINGS_ATM_CURRENT / AMT_DRAWINGS_CURRENT',\n",
    "                                          'CNT_DRAWINGS_ATM_CURRENT / CNT_DRAWINGS_CURRENT']]"
   ]
  },
  {
   "cell_type": "code",
   "execution_count": 53,
   "metadata": {
    "collapsed": true
   },
   "outputs": [],
   "source": [
    "cc_derived_features_sum = cc_derived_features.add_prefix('SUM_').rename(columns={'SUM_SK_ID_CURR':'SK_ID_CURR'})\n",
    "cc_derived_features_max = cc_derived_features.add_prefix('MAX_').rename(columns={'MAX_SK_ID_CURR':'SK_ID_CURR'})\n",
    "cc_derived_features_mean = cc_derived_features.add_prefix('MEAN_').rename(columns={'MEAN_SK_ID_CURR':'SK_ID_CURR'})\n",
    "\n",
    "cc_derived_features_sum = cc_derived_features_sum.groupby(['SK_ID_CURR']).sum().reset_index()\n",
    "cc_derived_features_max = cc_derived_features_max.groupby(['SK_ID_CURR']).max().reset_index()\n",
    "cc_derived_features_mean = cc_derived_features_mean.groupby(['SK_ID_CURR']).mean().reset_index()"
   ]
  },
  {
   "cell_type": "code",
   "execution_count": 54,
   "metadata": {
    "collapsed": true
   },
   "outputs": [],
   "source": [
    "cc_derived_features = pd.merge(cc_derived_features_sum,cc_derived_features_mean,on=['SK_ID_CURR'],how='inner')\n",
    "cc_derived_features = pd.merge(cc_derived_features,cc_derived_features_max,on=['SK_ID_CURR'],how='inner')\n",
    "cc_derived_features = pd.merge(cc_derived_features,credit_card_statusrate,on=['SK_ID_CURR'],how='inner')\n"
   ]
  },
  {
   "cell_type": "code",
   "execution_count": 55,
   "metadata": {
    "collapsed": false
   },
   "outputs": [
    {
     "data": {
      "text/html": [
       "<div>\n",
       "<style scoped>\n",
       "    .dataframe tbody tr th:only-of-type {\n",
       "        vertical-align: middle;\n",
       "    }\n",
       "\n",
       "    .dataframe tbody tr th {\n",
       "        vertical-align: top;\n",
       "    }\n",
       "\n",
       "    .dataframe thead th {\n",
       "        text-align: right;\n",
       "    }\n",
       "</style>\n",
       "<table border=\"1\" class=\"dataframe\">\n",
       "  <thead>\n",
       "    <tr style=\"text-align: right;\">\n",
       "      <th></th>\n",
       "      <th>SK_ID_CURR</th>\n",
       "      <th>SUM_AMT_DRAWINGS_CURRENT / CNT_DRAWINGS_CURRENT</th>\n",
       "      <th>SUM_AMT_INST_MIN_REGULARITY / AMT_PAYMENT_TOTAL_CURRENT</th>\n",
       "      <th>SUM_AMT_DRAWINGS_CURRENT / AMT_CREDIT_LIMIT_ACTUAL</th>\n",
       "      <th>SUM_AMT_BALANCE / AMT_CREDIT_LIMIT_ACTUAL</th>\n",
       "      <th>SUM_AMT_DRAWINGS_ATM_CURRENT / AMT_DRAWINGS_CURRENT</th>\n",
       "      <th>SUM_CNT_DRAWINGS_ATM_CURRENT / CNT_DRAWINGS_CURRENT</th>\n",
       "      <th>MEAN_AMT_DRAWINGS_CURRENT / CNT_DRAWINGS_CURRENT</th>\n",
       "      <th>MEAN_AMT_INST_MIN_REGULARITY / AMT_PAYMENT_TOTAL_CURRENT</th>\n",
       "      <th>MEAN_AMT_DRAWINGS_CURRENT / AMT_CREDIT_LIMIT_ACTUAL</th>\n",
       "      <th>MEAN_AMT_BALANCE / AMT_CREDIT_LIMIT_ACTUAL</th>\n",
       "      <th>MEAN_AMT_DRAWINGS_ATM_CURRENT / AMT_DRAWINGS_CURRENT</th>\n",
       "      <th>MEAN_CNT_DRAWINGS_ATM_CURRENT / CNT_DRAWINGS_CURRENT</th>\n",
       "      <th>MAX_AMT_DRAWINGS_CURRENT / CNT_DRAWINGS_CURRENT</th>\n",
       "      <th>MAX_AMT_INST_MIN_REGULARITY / AMT_PAYMENT_TOTAL_CURRENT</th>\n",
       "      <th>MAX_AMT_DRAWINGS_CURRENT / AMT_CREDIT_LIMIT_ACTUAL</th>\n",
       "      <th>MAX_AMT_BALANCE / AMT_CREDIT_LIMIT_ACTUAL</th>\n",
       "      <th>MAX_AMT_DRAWINGS_ATM_CURRENT / AMT_DRAWINGS_CURRENT</th>\n",
       "      <th>MAX_CNT_DRAWINGS_ATM_CURRENT / CNT_DRAWINGS_CURRENT</th>\n",
       "      <th>DEFAULT_RATE_CC_STATUS</th>\n",
       "    </tr>\n",
       "  </thead>\n",
       "  <tbody>\n",
       "    <tr>\n",
       "      <th>0</th>\n",
       "      <td>100006</td>\n",
       "      <td>0.0</td>\n",
       "      <td>0.000000</td>\n",
       "      <td>0.000000</td>\n",
       "      <td>0.000000</td>\n",
       "      <td>0.000000</td>\n",
       "      <td>0.00</td>\n",
       "      <td>0.000000</td>\n",
       "      <td>0.000000</td>\n",
       "      <td>0.000000</td>\n",
       "      <td>0.000000</td>\n",
       "      <td>0.000000</td>\n",
       "      <td>0.000000</td>\n",
       "      <td>0.0</td>\n",
       "      <td>0.000</td>\n",
       "      <td>0.000000</td>\n",
       "      <td>0.000000</td>\n",
       "      <td>0.000000</td>\n",
       "      <td>0.000</td>\n",
       "      <td>0.076965</td>\n",
       "    </tr>\n",
       "    <tr>\n",
       "      <th>1</th>\n",
       "      <td>100011</td>\n",
       "      <td>36000.0</td>\n",
       "      <td>835.353759</td>\n",
       "      <td>0.999994</td>\n",
       "      <td>22.398077</td>\n",
       "      <td>0.999994</td>\n",
       "      <td>0.80</td>\n",
       "      <td>486.486486</td>\n",
       "      <td>11.288564</td>\n",
       "      <td>0.013513</td>\n",
       "      <td>0.302677</td>\n",
       "      <td>0.013513</td>\n",
       "      <td>0.010811</td>\n",
       "      <td>36000.0</td>\n",
       "      <td>804.195</td>\n",
       "      <td>0.999994</td>\n",
       "      <td>1.049994</td>\n",
       "      <td>0.999994</td>\n",
       "      <td>0.800</td>\n",
       "      <td>0.076965</td>\n",
       "    </tr>\n",
       "    <tr>\n",
       "      <th>2</th>\n",
       "      <td>100013</td>\n",
       "      <td>99450.0</td>\n",
       "      <td>11333.783339</td>\n",
       "      <td>3.628548</td>\n",
       "      <td>11.068833</td>\n",
       "      <td>4.999926</td>\n",
       "      <td>3.85</td>\n",
       "      <td>1035.937500</td>\n",
       "      <td>118.060243</td>\n",
       "      <td>0.037797</td>\n",
       "      <td>0.115300</td>\n",
       "      <td>0.052083</td>\n",
       "      <td>0.040104</td>\n",
       "      <td>29700.0</td>\n",
       "      <td>7875.000</td>\n",
       "      <td>0.999994</td>\n",
       "      <td>1.024884</td>\n",
       "      <td>0.999994</td>\n",
       "      <td>0.875</td>\n",
       "      <td>0.076965</td>\n",
       "    </tr>\n",
       "    <tr>\n",
       "      <th>3</th>\n",
       "      <td>100021</td>\n",
       "      <td>0.0</td>\n",
       "      <td>0.000000</td>\n",
       "      <td>0.000000</td>\n",
       "      <td>0.000000</td>\n",
       "      <td>0.000000</td>\n",
       "      <td>0.00</td>\n",
       "      <td>0.000000</td>\n",
       "      <td>0.000000</td>\n",
       "      <td>0.000000</td>\n",
       "      <td>0.000000</td>\n",
       "      <td>0.000000</td>\n",
       "      <td>0.000000</td>\n",
       "      <td>0.0</td>\n",
       "      <td>0.000</td>\n",
       "      <td>0.000000</td>\n",
       "      <td>0.000000</td>\n",
       "      <td>0.000000</td>\n",
       "      <td>0.000</td>\n",
       "      <td>0.072034</td>\n",
       "    </tr>\n",
       "    <tr>\n",
       "      <th>4</th>\n",
       "      <td>100023</td>\n",
       "      <td>0.0</td>\n",
       "      <td>0.000000</td>\n",
       "      <td>0.000000</td>\n",
       "      <td>0.000000</td>\n",
       "      <td>0.000000</td>\n",
       "      <td>0.00</td>\n",
       "      <td>0.000000</td>\n",
       "      <td>0.000000</td>\n",
       "      <td>0.000000</td>\n",
       "      <td>0.000000</td>\n",
       "      <td>0.000000</td>\n",
       "      <td>0.000000</td>\n",
       "      <td>0.0</td>\n",
       "      <td>0.000</td>\n",
       "      <td>0.000000</td>\n",
       "      <td>0.000000</td>\n",
       "      <td>0.000000</td>\n",
       "      <td>0.000</td>\n",
       "      <td>0.076965</td>\n",
       "    </tr>\n",
       "  </tbody>\n",
       "</table>\n",
       "</div>"
      ],
      "text/plain": [
       "   SK_ID_CURR  SUM_AMT_DRAWINGS_CURRENT / CNT_DRAWINGS_CURRENT  \\\n",
       "0      100006                                              0.0   \n",
       "1      100011                                          36000.0   \n",
       "2      100013                                          99450.0   \n",
       "3      100021                                              0.0   \n",
       "4      100023                                              0.0   \n",
       "\n",
       "   SUM_AMT_INST_MIN_REGULARITY / AMT_PAYMENT_TOTAL_CURRENT  \\\n",
       "0                                           0.000000         \n",
       "1                                         835.353759         \n",
       "2                                       11333.783339         \n",
       "3                                           0.000000         \n",
       "4                                           0.000000         \n",
       "\n",
       "   SUM_AMT_DRAWINGS_CURRENT / AMT_CREDIT_LIMIT_ACTUAL  \\\n",
       "0                                           0.000000    \n",
       "1                                           0.999994    \n",
       "2                                           3.628548    \n",
       "3                                           0.000000    \n",
       "4                                           0.000000    \n",
       "\n",
       "   SUM_AMT_BALANCE / AMT_CREDIT_LIMIT_ACTUAL  \\\n",
       "0                                   0.000000   \n",
       "1                                  22.398077   \n",
       "2                                  11.068833   \n",
       "3                                   0.000000   \n",
       "4                                   0.000000   \n",
       "\n",
       "   SUM_AMT_DRAWINGS_ATM_CURRENT / AMT_DRAWINGS_CURRENT  \\\n",
       "0                                           0.000000     \n",
       "1                                           0.999994     \n",
       "2                                           4.999926     \n",
       "3                                           0.000000     \n",
       "4                                           0.000000     \n",
       "\n",
       "   SUM_CNT_DRAWINGS_ATM_CURRENT / CNT_DRAWINGS_CURRENT  \\\n",
       "0                                               0.00     \n",
       "1                                               0.80     \n",
       "2                                               3.85     \n",
       "3                                               0.00     \n",
       "4                                               0.00     \n",
       "\n",
       "   MEAN_AMT_DRAWINGS_CURRENT / CNT_DRAWINGS_CURRENT  \\\n",
       "0                                          0.000000   \n",
       "1                                        486.486486   \n",
       "2                                       1035.937500   \n",
       "3                                          0.000000   \n",
       "4                                          0.000000   \n",
       "\n",
       "   MEAN_AMT_INST_MIN_REGULARITY / AMT_PAYMENT_TOTAL_CURRENT  \\\n",
       "0                                           0.000000          \n",
       "1                                          11.288564          \n",
       "2                                         118.060243          \n",
       "3                                           0.000000          \n",
       "4                                           0.000000          \n",
       "\n",
       "   MEAN_AMT_DRAWINGS_CURRENT / AMT_CREDIT_LIMIT_ACTUAL  \\\n",
       "0                                           0.000000     \n",
       "1                                           0.013513     \n",
       "2                                           0.037797     \n",
       "3                                           0.000000     \n",
       "4                                           0.000000     \n",
       "\n",
       "   MEAN_AMT_BALANCE / AMT_CREDIT_LIMIT_ACTUAL  \\\n",
       "0                                    0.000000   \n",
       "1                                    0.302677   \n",
       "2                                    0.115300   \n",
       "3                                    0.000000   \n",
       "4                                    0.000000   \n",
       "\n",
       "   MEAN_AMT_DRAWINGS_ATM_CURRENT / AMT_DRAWINGS_CURRENT  \\\n",
       "0                                           0.000000      \n",
       "1                                           0.013513      \n",
       "2                                           0.052083      \n",
       "3                                           0.000000      \n",
       "4                                           0.000000      \n",
       "\n",
       "   MEAN_CNT_DRAWINGS_ATM_CURRENT / CNT_DRAWINGS_CURRENT  \\\n",
       "0                                           0.000000      \n",
       "1                                           0.010811      \n",
       "2                                           0.040104      \n",
       "3                                           0.000000      \n",
       "4                                           0.000000      \n",
       "\n",
       "   MAX_AMT_DRAWINGS_CURRENT / CNT_DRAWINGS_CURRENT  \\\n",
       "0                                              0.0   \n",
       "1                                          36000.0   \n",
       "2                                          29700.0   \n",
       "3                                              0.0   \n",
       "4                                              0.0   \n",
       "\n",
       "   MAX_AMT_INST_MIN_REGULARITY / AMT_PAYMENT_TOTAL_CURRENT  \\\n",
       "0                                              0.000         \n",
       "1                                            804.195         \n",
       "2                                           7875.000         \n",
       "3                                              0.000         \n",
       "4                                              0.000         \n",
       "\n",
       "   MAX_AMT_DRAWINGS_CURRENT / AMT_CREDIT_LIMIT_ACTUAL  \\\n",
       "0                                           0.000000    \n",
       "1                                           0.999994    \n",
       "2                                           0.999994    \n",
       "3                                           0.000000    \n",
       "4                                           0.000000    \n",
       "\n",
       "   MAX_AMT_BALANCE / AMT_CREDIT_LIMIT_ACTUAL  \\\n",
       "0                                   0.000000   \n",
       "1                                   1.049994   \n",
       "2                                   1.024884   \n",
       "3                                   0.000000   \n",
       "4                                   0.000000   \n",
       "\n",
       "   MAX_AMT_DRAWINGS_ATM_CURRENT / AMT_DRAWINGS_CURRENT  \\\n",
       "0                                           0.000000     \n",
       "1                                           0.999994     \n",
       "2                                           0.999994     \n",
       "3                                           0.000000     \n",
       "4                                           0.000000     \n",
       "\n",
       "   MAX_CNT_DRAWINGS_ATM_CURRENT / CNT_DRAWINGS_CURRENT  DEFAULT_RATE_CC_STATUS  \n",
       "0                                              0.000                  0.076965  \n",
       "1                                              0.800                  0.076965  \n",
       "2                                              0.875                  0.076965  \n",
       "3                                              0.000                  0.072034  \n",
       "4                                              0.000                  0.076965  "
      ]
     },
     "execution_count": 55,
     "metadata": {},
     "output_type": "execute_result"
    }
   ],
   "source": [
    "cc_derived_features.head()"
   ]
  },
  {
   "cell_type": "code",
   "execution_count": 56,
   "metadata": {
    "collapsed": true
   },
   "outputs": [],
   "source": [
    "credit_card_cal =  credit_card_balance[['SK_ID_CURR','MONTHS_BALANCE','AMT_BALANCE','AMT_CREDIT_LIMIT_ACTUAL',\n",
    "                                       'AMT_DRAWINGS_ATM_CURRENT','AMT_DRAWINGS_CURRENT','AMT_DRAWINGS_OTHER_CURRENT',\n",
    "                                       'AMT_DRAWINGS_POS_CURRENT','AMT_INST_MIN_REGULARITY','AMT_PAYMENT_CURRENT',\n",
    "                                       'AMT_PAYMENT_TOTAL_CURRENT','AMT_PAYMENT_TOTAL_CURRENT','AMT_RECEIVABLE_PRINCIPAL',\n",
    "                                       'AMT_RECIVABLE','AMT_TOTAL_RECEIVABLE','CNT_DRAWINGS_ATM_CURRENT','CNT_DRAWINGS_CURRENT',\n",
    "                                       'CNT_DRAWINGS_OTHER_CURRENT','CNT_DRAWINGS_POS_CURRENT','CNT_INSTALMENT_MATURE_CUM']]\n",
    "credit_card_mean = credit_card_cal.add_prefix('MEAN_').rename(columns={'MEAN_SK_ID_CURR':'SK_ID_CURR'})\n",
    "credit_card_max = credit_card_cal.add_prefix('MAX_').rename(columns={'MAX_SK_ID_CURR':'SK_ID_CURR'})\n",
    "credit_card_min = credit_card_cal.add_prefix('MIN_').rename(columns={'MIN_SK_ID_CURR':'SK_ID_CURR'})\n",
    "credit_card_sum = credit_card_cal.add_prefix('SUM_').rename(columns={'SUM_SK_ID_CURR':'SK_ID_CURR'})\n",
    "credit_card_var = credit_card_cal.add_prefix('VAR_').rename(columns={'VAR_SK_ID_CURR':'SK_ID_CURR'})"
   ]
  },
  {
   "cell_type": "code",
   "execution_count": 57,
   "metadata": {
    "collapsed": true
   },
   "outputs": [],
   "source": [
    "credit_card_mean = credit_card_mean.groupby(['SK_ID_CURR']).mean().reset_index()\n",
    "credit_card_max = credit_card_max.groupby(['SK_ID_CURR']).max().reset_index()\n",
    "credit_card_min = credit_card_min.groupby(['SK_ID_CURR']).min().reset_index()\n",
    "credit_card_sum = credit_card_sum.groupby(['SK_ID_CURR']).sum().reset_index()\n",
    "credit_card_var = credit_card_var.groupby(['SK_ID_CURR']).var().reset_index()"
   ]
  },
  {
   "cell_type": "code",
   "execution_count": 58,
   "metadata": {
    "collapsed": true
   },
   "outputs": [],
   "source": [
    "#Fetch latest per customer\n",
    "credit_car_per_cust = credit_card_latest.add_prefix('LATEST_').rename(columns={'LATEST_SK_ID_CURR':'SK_ID_CURR'})\n",
    "credit_car_per_cust_max = credit_car_per_cust.groupby(['SK_ID_CURR']).max().reset_index()\n",
    "credit_car_per_cust_sum = credit_car_per_cust.groupby(['SK_ID_CURR']).max().reset_index()\n",
    "credit_car_per_cust = pd.merge(credit_car_per_cust_max,credit_car_per_cust_sum,on=['SK_ID_CURR'],how='inner')"
   ]
  },
  {
   "cell_type": "code",
   "execution_count": 59,
   "metadata": {
    "collapsed": false
   },
   "outputs": [
    {
     "data": {
      "text/plain": [
       "103558"
      ]
     },
     "execution_count": 59,
     "metadata": {},
     "output_type": "execute_result"
    }
   ],
   "source": [
    "credit_car_per_cust['SK_ID_CURR'].nunique()"
   ]
  },
  {
   "cell_type": "code",
   "execution_count": 60,
   "metadata": {
    "collapsed": true
   },
   "outputs": [],
   "source": [
    "#Calculate total DPD per customer\n",
    "credit_card_dpd = credit_card_balance[['SK_ID_CURR','SK_DPD_DEF','SK_DPD']]\n",
    "credit_card_dpd = credit_card_dpd.groupby(['SK_ID_CURR']).sum().reset_index()\n",
    "credit_card_dpd = credit_card_dpd.rename(columns={'SK_DPD_DEF':'CC_SK_DPD_DEF_COUNT','SK_DPD':'CC_SK_DPD_COUNT'})"
   ]
  },
  {
   "cell_type": "code",
   "execution_count": 61,
   "metadata": {
    "collapsed": false
   },
   "outputs": [
    {
     "data": {
      "text/html": [
       "<div>\n",
       "<style scoped>\n",
       "    .dataframe tbody tr th:only-of-type {\n",
       "        vertical-align: middle;\n",
       "    }\n",
       "\n",
       "    .dataframe tbody tr th {\n",
       "        vertical-align: top;\n",
       "    }\n",
       "\n",
       "    .dataframe thead th {\n",
       "        text-align: right;\n",
       "    }\n",
       "</style>\n",
       "<table border=\"1\" class=\"dataframe\">\n",
       "  <thead>\n",
       "    <tr style=\"text-align: right;\">\n",
       "      <th></th>\n",
       "      <th>SK_ID_CURR</th>\n",
       "      <th>CC_SK_DPD_DEF_COUNT</th>\n",
       "      <th>CC_SK_DPD_COUNT</th>\n",
       "    </tr>\n",
       "  </thead>\n",
       "  <tbody>\n",
       "    <tr>\n",
       "      <th>0</th>\n",
       "      <td>100006</td>\n",
       "      <td>0</td>\n",
       "      <td>0</td>\n",
       "    </tr>\n",
       "    <tr>\n",
       "      <th>1</th>\n",
       "      <td>100011</td>\n",
       "      <td>0</td>\n",
       "      <td>0</td>\n",
       "    </tr>\n",
       "    <tr>\n",
       "      <th>2</th>\n",
       "      <td>100013</td>\n",
       "      <td>1</td>\n",
       "      <td>1</td>\n",
       "    </tr>\n",
       "    <tr>\n",
       "      <th>3</th>\n",
       "      <td>100021</td>\n",
       "      <td>0</td>\n",
       "      <td>0</td>\n",
       "    </tr>\n",
       "    <tr>\n",
       "      <th>4</th>\n",
       "      <td>100023</td>\n",
       "      <td>0</td>\n",
       "      <td>0</td>\n",
       "    </tr>\n",
       "  </tbody>\n",
       "</table>\n",
       "</div>"
      ],
      "text/plain": [
       "   SK_ID_CURR  CC_SK_DPD_DEF_COUNT  CC_SK_DPD_COUNT\n",
       "0      100006                    0                0\n",
       "1      100011                    0                0\n",
       "2      100013                    1                1\n",
       "3      100021                    0                0\n",
       "4      100023                    0                0"
      ]
     },
     "execution_count": 61,
     "metadata": {},
     "output_type": "execute_result"
    }
   ],
   "source": [
    "credit_card_dpd.head()"
   ]
  },
  {
   "cell_type": "code",
   "execution_count": 62,
   "metadata": {
    "collapsed": false
   },
   "outputs": [
    {
     "data": {
      "text/html": [
       "<div>\n",
       "<style scoped>\n",
       "    .dataframe tbody tr th:only-of-type {\n",
       "        vertical-align: middle;\n",
       "    }\n",
       "\n",
       "    .dataframe tbody tr th {\n",
       "        vertical-align: top;\n",
       "    }\n",
       "\n",
       "    .dataframe thead th {\n",
       "        text-align: right;\n",
       "    }\n",
       "</style>\n",
       "<table border=\"1\" class=\"dataframe\">\n",
       "  <thead>\n",
       "    <tr style=\"text-align: right;\">\n",
       "      <th></th>\n",
       "      <th>SK_ID_CURR</th>\n",
       "      <th>NAME_CONTRACT_STATUS_Active</th>\n",
       "      <th>NAME_CONTRACT_STATUS_Completed</th>\n",
       "      <th>NAME_CONTRACT_STATUS_Demand</th>\n",
       "      <th>NAME_CONTRACT_STATUS_Sent proposal</th>\n",
       "      <th>NAME_CONTRACT_STATUS_Signed</th>\n",
       "      <th>SK_DPD</th>\n",
       "      <th>SK_DPD_DEF</th>\n",
       "    </tr>\n",
       "  </thead>\n",
       "  <tbody>\n",
       "    <tr>\n",
       "      <th>0</th>\n",
       "      <td>100006</td>\n",
       "      <td>1</td>\n",
       "      <td>0</td>\n",
       "      <td>0</td>\n",
       "      <td>0</td>\n",
       "      <td>0</td>\n",
       "      <td>0</td>\n",
       "      <td>0</td>\n",
       "    </tr>\n",
       "    <tr>\n",
       "      <th>1</th>\n",
       "      <td>100011</td>\n",
       "      <td>1</td>\n",
       "      <td>0</td>\n",
       "      <td>0</td>\n",
       "      <td>0</td>\n",
       "      <td>0</td>\n",
       "      <td>0</td>\n",
       "      <td>0</td>\n",
       "    </tr>\n",
       "    <tr>\n",
       "      <th>2</th>\n",
       "      <td>100013</td>\n",
       "      <td>1</td>\n",
       "      <td>0</td>\n",
       "      <td>0</td>\n",
       "      <td>0</td>\n",
       "      <td>0</td>\n",
       "      <td>1</td>\n",
       "      <td>1</td>\n",
       "    </tr>\n",
       "    <tr>\n",
       "      <th>3</th>\n",
       "      <td>100021</td>\n",
       "      <td>0</td>\n",
       "      <td>1</td>\n",
       "      <td>0</td>\n",
       "      <td>0</td>\n",
       "      <td>0</td>\n",
       "      <td>0</td>\n",
       "      <td>0</td>\n",
       "    </tr>\n",
       "    <tr>\n",
       "      <th>4</th>\n",
       "      <td>100023</td>\n",
       "      <td>1</td>\n",
       "      <td>0</td>\n",
       "      <td>0</td>\n",
       "      <td>0</td>\n",
       "      <td>0</td>\n",
       "      <td>0</td>\n",
       "      <td>0</td>\n",
       "    </tr>\n",
       "  </tbody>\n",
       "</table>\n",
       "</div>"
      ],
      "text/plain": [
       "   SK_ID_CURR  NAME_CONTRACT_STATUS_Active  NAME_CONTRACT_STATUS_Completed  \\\n",
       "0      100006                            1                               0   \n",
       "1      100011                            1                               0   \n",
       "2      100013                            1                               0   \n",
       "3      100021                            0                               1   \n",
       "4      100023                            1                               0   \n",
       "\n",
       "   NAME_CONTRACT_STATUS_Demand  NAME_CONTRACT_STATUS_Sent proposal  \\\n",
       "0                            0                                   0   \n",
       "1                            0                                   0   \n",
       "2                            0                                   0   \n",
       "3                            0                                   0   \n",
       "4                            0                                   0   \n",
       "\n",
       "   NAME_CONTRACT_STATUS_Signed  SK_DPD  SK_DPD_DEF  \n",
       "0                            0       0           0  \n",
       "1                            0       0           0  \n",
       "2                            0       1           1  \n",
       "3                            0       0           0  \n",
       "4                            0       0           0  "
      ]
     },
     "execution_count": 62,
     "metadata": {},
     "output_type": "execute_result"
    }
   ],
   "source": [
    "credit_card_stat.head()"
   ]
  },
  {
   "cell_type": "code",
   "execution_count": 64,
   "metadata": {
    "collapsed": true
   },
   "outputs": [],
   "source": [
    "#Joining with status\n",
    "credit_car_per_cust = pd.merge(credit_car_per_cust,credit_card_stat,how='left',on=['SK_ID_CURR'])\n",
    "#credit_card_latest = pd.merge(credit_card_latest,credit_card_status_count,how='left',on=['SK_ID_CURR'])\n",
    "credit_car_per_cust = pd.merge(credit_car_per_cust,credit_card_statusrate,how='left',on=['SK_ID_CURR']) \n",
    "#Join with DPD\n",
    "credit_car_per_cust = pd.merge(credit_car_per_cust,credit_card_dpd,how='left',on=['SK_ID_CURR'])"
   ]
  },
  {
   "cell_type": "code",
   "execution_count": 65,
   "metadata": {
    "collapsed": true
   },
   "outputs": [],
   "source": [
    "credit_car_per_cust = pd.merge(credit_car_per_cust,credit_card_app_count,how='inner',on=['SK_ID_CURR'])\n",
    "credit_car_per_cust = pd.merge(credit_car_per_cust,credit_card_mean,how='inner',on=['SK_ID_CURR'])\n",
    "credit_car_per_cust = pd.merge(credit_car_per_cust,credit_card_max,how='inner',on=['SK_ID_CURR'])\n",
    "credit_car_per_cust = pd.merge(credit_car_per_cust,credit_card_min,how='inner',on=['SK_ID_CURR'])\n",
    "credit_car_per_cust = pd.merge(credit_car_per_cust,credit_card_sum,how='inner',on=['SK_ID_CURR'])\n",
    "credit_car_per_cust = pd.merge(credit_car_per_cust,credit_card_var,how='inner',on=['SK_ID_CURR'])"
   ]
  },
  {
   "cell_type": "code",
   "execution_count": 66,
   "metadata": {
    "collapsed": true,
    "scrolled": true
   },
   "outputs": [],
   "source": [
    "credit_car_per_cust = pd.merge(credit_car_per_cust,cc_derived_features,how='inner',on=['SK_ID_CURR'])"
   ]
  },
  {
   "cell_type": "code",
   "execution_count": 67,
   "metadata": {
    "collapsed": false
   },
   "outputs": [
    {
     "data": {
      "text/plain": [
       "(103558, 152)"
      ]
     },
     "execution_count": 67,
     "metadata": {},
     "output_type": "execute_result"
    }
   ],
   "source": [
    "credit_car_per_cust.shape"
   ]
  },
  {
   "cell_type": "code",
   "execution_count": 68,
   "metadata": {
    "collapsed": true
   },
   "outputs": [
    {
     "name": "stdout",
     "output_type": "stream",
     "text": [
      "Your selected dataframe has 152 columns.\n",
      "There are 19 columns that have missing values.\n"
     ]
    },
    {
     "data": {
      "text/html": [
       "<div>\n",
       "<style scoped>\n",
       "    .dataframe tbody tr th:only-of-type {\n",
       "        vertical-align: middle;\n",
       "    }\n",
       "\n",
       "    .dataframe tbody tr th {\n",
       "        vertical-align: top;\n",
       "    }\n",
       "\n",
       "    .dataframe thead th {\n",
       "        text-align: right;\n",
       "    }\n",
       "</style>\n",
       "<table border=\"1\" class=\"dataframe\">\n",
       "  <thead>\n",
       "    <tr style=\"text-align: right;\">\n",
       "      <th></th>\n",
       "      <th>Missing Values</th>\n",
       "      <th>% of Total Values</th>\n",
       "      <th>column_name</th>\n",
       "    </tr>\n",
       "  </thead>\n",
       "  <tbody>\n",
       "    <tr>\n",
       "      <th>0</th>\n",
       "      <td>692</td>\n",
       "      <td>0.7</td>\n",
       "      <td>VAR_MONTHS_BALANCE</td>\n",
       "    </tr>\n",
       "    <tr>\n",
       "      <th>1</th>\n",
       "      <td>692</td>\n",
       "      <td>0.7</td>\n",
       "      <td>VAR_AMT_PAYMENT_TOTAL_CURRENT</td>\n",
       "    </tr>\n",
       "    <tr>\n",
       "      <th>2</th>\n",
       "      <td>692</td>\n",
       "      <td>0.7</td>\n",
       "      <td>VAR_CNT_DRAWINGS_POS_CURRENT</td>\n",
       "    </tr>\n",
       "    <tr>\n",
       "      <th>3</th>\n",
       "      <td>692</td>\n",
       "      <td>0.7</td>\n",
       "      <td>VAR_CNT_DRAWINGS_OTHER_CURRENT</td>\n",
       "    </tr>\n",
       "    <tr>\n",
       "      <th>4</th>\n",
       "      <td>692</td>\n",
       "      <td>0.7</td>\n",
       "      <td>VAR_CNT_DRAWINGS_CURRENT</td>\n",
       "    </tr>\n",
       "    <tr>\n",
       "      <th>5</th>\n",
       "      <td>692</td>\n",
       "      <td>0.7</td>\n",
       "      <td>VAR_CNT_DRAWINGS_ATM_CURRENT</td>\n",
       "    </tr>\n",
       "    <tr>\n",
       "      <th>6</th>\n",
       "      <td>692</td>\n",
       "      <td>0.7</td>\n",
       "      <td>VAR_AMT_TOTAL_RECEIVABLE</td>\n",
       "    </tr>\n",
       "    <tr>\n",
       "      <th>7</th>\n",
       "      <td>692</td>\n",
       "      <td>0.7</td>\n",
       "      <td>VAR_AMT_RECIVABLE</td>\n",
       "    </tr>\n",
       "    <tr>\n",
       "      <th>8</th>\n",
       "      <td>692</td>\n",
       "      <td>0.7</td>\n",
       "      <td>VAR_AMT_RECEIVABLE_PRINCIPAL</td>\n",
       "    </tr>\n",
       "    <tr>\n",
       "      <th>9</th>\n",
       "      <td>692</td>\n",
       "      <td>0.7</td>\n",
       "      <td>VAR_AMT_PAYMENT_TOTAL_CURRENT</td>\n",
       "    </tr>\n",
       "    <tr>\n",
       "      <th>10</th>\n",
       "      <td>692</td>\n",
       "      <td>0.7</td>\n",
       "      <td>VAR_AMT_BALANCE</td>\n",
       "    </tr>\n",
       "    <tr>\n",
       "      <th>11</th>\n",
       "      <td>692</td>\n",
       "      <td>0.7</td>\n",
       "      <td>VAR_AMT_PAYMENT_CURRENT</td>\n",
       "    </tr>\n",
       "    <tr>\n",
       "      <th>12</th>\n",
       "      <td>692</td>\n",
       "      <td>0.7</td>\n",
       "      <td>VAR_AMT_INST_MIN_REGULARITY</td>\n",
       "    </tr>\n",
       "    <tr>\n",
       "      <th>13</th>\n",
       "      <td>692</td>\n",
       "      <td>0.7</td>\n",
       "      <td>VAR_AMT_DRAWINGS_POS_CURRENT</td>\n",
       "    </tr>\n",
       "    <tr>\n",
       "      <th>14</th>\n",
       "      <td>692</td>\n",
       "      <td>0.7</td>\n",
       "      <td>VAR_AMT_DRAWINGS_OTHER_CURRENT</td>\n",
       "    </tr>\n",
       "    <tr>\n",
       "      <th>15</th>\n",
       "      <td>692</td>\n",
       "      <td>0.7</td>\n",
       "      <td>VAR_AMT_DRAWINGS_CURRENT</td>\n",
       "    </tr>\n",
       "    <tr>\n",
       "      <th>16</th>\n",
       "      <td>692</td>\n",
       "      <td>0.7</td>\n",
       "      <td>VAR_AMT_DRAWINGS_ATM_CURRENT</td>\n",
       "    </tr>\n",
       "    <tr>\n",
       "      <th>17</th>\n",
       "      <td>692</td>\n",
       "      <td>0.7</td>\n",
       "      <td>VAR_AMT_CREDIT_LIMIT_ACTUAL</td>\n",
       "    </tr>\n",
       "    <tr>\n",
       "      <th>18</th>\n",
       "      <td>692</td>\n",
       "      <td>0.7</td>\n",
       "      <td>VAR_CNT_INSTALMENT_MATURE_CUM</td>\n",
       "    </tr>\n",
       "  </tbody>\n",
       "</table>\n",
       "</div>"
      ],
      "text/plain": [
       "    Missing Values  % of Total Values                     column_name\n",
       "0              692                0.7              VAR_MONTHS_BALANCE\n",
       "1              692                0.7   VAR_AMT_PAYMENT_TOTAL_CURRENT\n",
       "2              692                0.7    VAR_CNT_DRAWINGS_POS_CURRENT\n",
       "3              692                0.7  VAR_CNT_DRAWINGS_OTHER_CURRENT\n",
       "4              692                0.7        VAR_CNT_DRAWINGS_CURRENT\n",
       "5              692                0.7    VAR_CNT_DRAWINGS_ATM_CURRENT\n",
       "6              692                0.7        VAR_AMT_TOTAL_RECEIVABLE\n",
       "7              692                0.7               VAR_AMT_RECIVABLE\n",
       "8              692                0.7    VAR_AMT_RECEIVABLE_PRINCIPAL\n",
       "9              692                0.7   VAR_AMT_PAYMENT_TOTAL_CURRENT\n",
       "10             692                0.7                 VAR_AMT_BALANCE\n",
       "11             692                0.7         VAR_AMT_PAYMENT_CURRENT\n",
       "12             692                0.7     VAR_AMT_INST_MIN_REGULARITY\n",
       "13             692                0.7    VAR_AMT_DRAWINGS_POS_CURRENT\n",
       "14             692                0.7  VAR_AMT_DRAWINGS_OTHER_CURRENT\n",
       "15             692                0.7        VAR_AMT_DRAWINGS_CURRENT\n",
       "16             692                0.7    VAR_AMT_DRAWINGS_ATM_CURRENT\n",
       "17             692                0.7     VAR_AMT_CREDIT_LIMIT_ACTUAL\n",
       "18             692                0.7   VAR_CNT_INSTALMENT_MATURE_CUM"
      ]
     },
     "execution_count": 68,
     "metadata": {},
     "output_type": "execute_result"
    }
   ],
   "source": [
    "#Check for missing values\n",
    "missing_values = missing_values_table(credit_car_per_cust)\n",
    "missing_values['column_name'] = missing_values.index\n",
    "missing_values = missing_values.reset_index(drop = True)\n",
    "missing_values"
   ]
  },
  {
   "cell_type": "code",
   "execution_count": null,
   "metadata": {
    "collapsed": true
   },
   "outputs": [],
   "source": [
    "# del_cols = missing_values[missing_values['% of Total Values']>30]['column_name']\n",
    "# del_cols\n",
    "# credit_car_per_cust = credit_car_per_cust.drop(columns=del_cols.values,axis = 1)"
   ]
  },
  {
   "cell_type": "code",
   "execution_count": 69,
   "metadata": {
    "collapsed": true
   },
   "outputs": [],
   "source": [
    "credit_car_per_cust = credit_car_per_cust.dropna()"
   ]
  },
  {
   "cell_type": "code",
   "execution_count": null,
   "metadata": {
    "collapsed": true
   },
   "outputs": [],
   "source": [
    "# #Fill NAN with a value not present in data set ¬ -10\n",
    "# credit_car_per_cust = credit_car_per_cust.fillna(-1)"
   ]
  },
  {
   "cell_type": "code",
   "execution_count": 70,
   "metadata": {
    "collapsed": false
   },
   "outputs": [
    {
     "data": {
      "text/plain": [
       "(102866, 152)"
      ]
     },
     "execution_count": 70,
     "metadata": {},
     "output_type": "execute_result"
    }
   ],
   "source": [
    "credit_car_per_cust.shape"
   ]
  },
  {
   "cell_type": "code",
   "execution_count": null,
   "metadata": {
    "collapsed": true
   },
   "outputs": [],
   "source": [
    "# credit_car_per_cust = encoding_cat_vars(credit_car_per_cust,le)"
   ]
  },
  {
   "cell_type": "code",
   "execution_count": 71,
   "metadata": {
    "collapsed": true
   },
   "outputs": [],
   "source": [
    "credit_car_per_cust.to_csv('tmp_credit_card.csv',index=False)"
   ]
  }
 ],
 "metadata": {
  "kernelspec": {
   "display_name": "Python [Root]",
   "language": "python",
   "name": "Python [Root]"
  },
  "language_info": {
   "codemirror_mode": {
    "name": "ipython",
    "version": 2
   },
   "file_extension": ".py",
   "mimetype": "text/x-python",
   "name": "python",
   "nbconvert_exporter": "python",
   "pygments_lexer": "ipython2",
   "version": "2.7.12"
  }
 },
 "nbformat": 4,
 "nbformat_minor": 2
}
